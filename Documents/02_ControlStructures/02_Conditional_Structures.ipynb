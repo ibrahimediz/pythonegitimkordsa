{
 "cells": [
  {
   "attachments": {},
   "cell_type": "markdown",
   "metadata": {},
   "source": [
    "# Conditional Structures\n",
    "* if\n",
    "* else\n",
    "* elif\n",
    "* one line if one line if else"
   ]
  },
  {
   "attachments": {},
   "cell_type": "markdown",
   "metadata": {},
   "source": [
    "#### if"
   ]
  },
  {
   "cell_type": "code",
   "execution_count": 2,
   "metadata": {},
   "outputs": [],
   "source": [
    "a = 3\n",
    "if a == 2: # a ikiye eşit mi?\n",
    "    print(\"a 2 ye eşittir\")"
   ]
  },
  {
   "attachments": {},
   "cell_type": "markdown",
   "metadata": {},
   "source": [
    "#### else"
   ]
  },
  {
   "cell_type": "code",
   "execution_count": 4,
   "metadata": {},
   "outputs": [
    {
     "name": "stdout",
     "output_type": "stream",
     "text": [
      "a 2 ye eşittir\n"
     ]
    }
   ],
   "source": [
    "a = 2\n",
    "if a == 2: # a ikiye eşit mi?\n",
    "    print(\"a 2 ye eşittir\") # Doğru\n",
    "else:\n",
    "    print(\"a 2 ye eşit değil\") # Yanlış"
   ]
  },
  {
   "cell_type": "code",
   "execution_count": 9,
   "metadata": {},
   "outputs": [
    {
     "name": "stdout",
     "output_type": "stream",
     "text": [
      "Kabul Edildi\n"
     ]
    }
   ],
   "source": [
    "yas = input(\"Yaşınızı Giriniz:\") # str # input fonk her zaman str cevap döner\n",
    "if yas.isdigit():\n",
    "    yas = int(yas) # str veri tipinden int veri tipine dönüştürdü\n",
    "    if yas > 18:\n",
    "        print(\"Kabul Edildi\")\n",
    "    else:\n",
    "        print(\"Kabul Edilmedi\")"
   ]
  },
  {
   "attachments": {},
   "cell_type": "markdown",
   "metadata": {},
   "source": [
    "### Güzel Bilgi"
   ]
  },
  {
   "cell_type": "code",
   "execution_count": 18,
   "metadata": {},
   "outputs": [
    {
     "name": "stdout",
     "output_type": "stream",
     "text": [
      "Boş\n"
     ]
    }
   ],
   "source": [
    "a = 0 # False\n",
    "b = 0.0\n",
    "c = 0.0 + 0j\n",
    "d = \"\" # False\n",
    "e = [] # False\n",
    "f = () # False\n",
    "g = {} # False\n",
    "h = set() # False\n",
    "if d:\n",
    "    print(\"Dolu\")\n",
    "else:\n",
    "    print(\"Boş\")"
   ]
  },
  {
   "cell_type": "code",
   "execution_count": 21,
   "metadata": {},
   "outputs": [
    {
     "name": "stdout",
     "output_type": "stream",
     "text": [
      "Kabul Edildi\n"
     ]
    }
   ],
   "source": [
    "yas = input(\"Yaşınızı Giriniz:\") # str # input fonk her zaman str cevap döner\n",
    "if yas:\n",
    "    if yas.isdigit():\n",
    "        yas = int(yas) # str veri tipinden int veri tipine dönüştürdü\n",
    "        if yas > 18:\n",
    "            print(\"Kabul Edildi\")\n",
    "        else:\n",
    "            print(\"Kabul Edilmedi\")\n",
    "    else:\n",
    "        print(\"Sayı Giriniz\")\n",
    "else:\n",
    "    print(\"Boş Geçtiniz\")"
   ]
  },
  {
   "cell_type": "code",
   "execution_count": 23,
   "metadata": {},
   "outputs": [
    {
     "name": "stdout",
     "output_type": "stream",
     "text": [
      "Geçersiz Not\n"
     ]
    }
   ],
   "source": [
    "\"\"\" \n",
    "AA 85 100\n",
    "BB 70 84\n",
    "CC 55 70\n",
    "\"\"\" \n",
    "not_ = input(\"Notunuzu Giriniz:\") # str # input fonk her zaman str cevap döner\n",
    "if not_ and not_.isdigit():\n",
    "    not_ = int(not_)\n",
    "    if  85 <= not_ <= 100:  # not_ > 85 and not_ < 100: \n",
    "        print(\"AA\")\n",
    "    else:\n",
    "        if 70 <= not_ <= 84:\n",
    "            print(\"BB\")\n",
    "        else:\n",
    "            if 55 <= not_ <= 70:\n",
    "                print(\"CC\")\n",
    "            else:\n",
    "                print(\"Yanlış Not Girişi\")\n",
    "else:\n",
    "    print(\"Geçersiz Not\")"
   ]
  },
  {
   "cell_type": "code",
   "execution_count": 24,
   "metadata": {},
   "outputs": [
    {
     "name": "stdout",
     "output_type": "stream",
     "text": [
      "BB\n"
     ]
    }
   ],
   "source": [
    "\"\"\" \n",
    "AA 85 100\n",
    "BB 70 84\n",
    "CC 55 70\n",
    "\"\"\" \n",
    "not_ = input(\"Notunuzu Giriniz:\") # str # input fonk her zaman str cevap döner\n",
    "if not_ and not_.isdigit():\n",
    "    not_ = int(not_)\n",
    "    if  85 <= not_ <= 100:  # not_ > 85 and not_ < 100: \n",
    "        print(\"AA\")\n",
    "    elif 70 <= not_ <= 84:\n",
    "        print(\"BB\")\n",
    "    elif 55 <= not_ <= 70:\n",
    "        print(\"CC\")\n",
    "    else:\n",
    "        print(\"Yanlış Not Girişi\")\n",
    "else:\n",
    "    print(\"Geçersiz Not\")"
   ]
  },
  {
   "cell_type": "code",
   "execution_count": null,
   "metadata": {},
   "outputs": [],
   "source": []
  }
 ],
 "metadata": {
  "kernelspec": {
   "display_name": "Python 3",
   "language": "python",
   "name": "python3"
  },
  "language_info": {
   "codemirror_mode": {
    "name": "ipython",
    "version": 3
   },
   "file_extension": ".py",
   "mimetype": "text/x-python",
   "name": "python",
   "nbconvert_exporter": "python",
   "pygments_lexer": "ipython3",
   "version": "3.8.16"
  },
  "orig_nbformat": 4
 },
 "nbformat": 4,
 "nbformat_minor": 2
}
