{
 "cells": [
  {
   "attachments": {},
   "cell_type": "markdown",
   "metadata": {},
   "source": [
    "# Conditional Structures\n",
    "* if\n",
    "* else\n",
    "* elif\n",
    "* one line if one line if else"
   ]
  },
  {
   "attachments": {},
   "cell_type": "markdown",
   "metadata": {},
   "source": [
    "#### if"
   ]
  },
  {
   "cell_type": "code",
   "execution_count": 2,
   "metadata": {},
   "outputs": [],
   "source": [
    "a = 3\n",
    "if a == 2: # a ikiye eşit mi?\n",
    "    print(\"a 2 ye eşittir\")"
   ]
  },
  {
   "attachments": {},
   "cell_type": "markdown",
   "metadata": {},
   "source": [
    "#### else"
   ]
  },
  {
   "cell_type": "code",
   "execution_count": 4,
   "metadata": {},
   "outputs": [
    {
     "name": "stdout",
     "output_type": "stream",
     "text": [
      "a 2 ye eşittir\n"
     ]
    }
   ],
   "source": [
    "a = 2\n",
    "if a == 2: # a ikiye eşit mi?\n",
    "    print(\"a 2 ye eşittir\") # Doğru\n",
    "else:\n",
    "    print(\"a 2 ye eşit değil\") # Yanlış"
   ]
  },
  {
   "cell_type": "code",
   "execution_count": 9,
   "metadata": {},
   "outputs": [
    {
     "name": "stdout",
     "output_type": "stream",
     "text": [
      "Kabul Edildi\n"
     ]
    }
   ],
   "source": [
    "yas = input(\"Yaşınızı Giriniz:\") # str # input fonk her zaman str cevap döner\n",
    "if yas.isdigit():\n",
    "    yas = int(yas) # str veri tipinden int veri tipine dönüştürdü\n",
    "    if yas > 18:\n",
    "        print(\"Kabul Edildi\")\n",
    "    else:\n",
    "        print(\"Kabul Edilmedi\")"
   ]
  },
  {
   "attachments": {},
   "cell_type": "markdown",
   "metadata": {},
   "source": [
    "### Güzel Bilgi"
   ]
  },
  {
   "cell_type": "code",
   "execution_count": 18,
   "metadata": {},
   "outputs": [
    {
     "name": "stdout",
     "output_type": "stream",
     "text": [
      "Boş\n"
     ]
    }
   ],
   "source": [
    "a = 0 # False\n",
    "b = 0.0\n",
    "c = 0.0 + 0j\n",
    "d = \"\" # False\n",
    "e = [] # False\n",
    "f = () # False\n",
    "g = {} # False\n",
    "h = set() # False\n",
    "if d:\n",
    "    print(\"Dolu\")\n",
    "else:\n",
    "    print(\"Boş\")"
   ]
  },
  {
   "cell_type": "code",
   "execution_count": 21,
   "metadata": {},
   "outputs": [
    {
     "name": "stdout",
     "output_type": "stream",
     "text": [
      "Kabul Edildi\n"
     ]
    }
   ],
   "source": [
    "yas = input(\"Yaşınızı Giriniz:\") # str # input fonk her zaman str cevap döner\n",
    "if yas:\n",
    "    if yas.isdigit():\n",
    "        yas = int(yas) # str veri tipinden int veri tipine dönüştürdü\n",
    "        if yas > 18:\n",
    "            print(\"Kabul Edildi\")\n",
    "        else:\n",
    "            print(\"Kabul Edilmedi\")\n",
    "    else:\n",
    "        print(\"Sayı Giriniz\")\n",
    "else:\n",
    "    print(\"Boş Geçtiniz\")"
   ]
  },
  {
   "cell_type": "code",
   "execution_count": 23,
   "metadata": {},
   "outputs": [
    {
     "name": "stdout",
     "output_type": "stream",
     "text": [
      "Geçersiz Not\n"
     ]
    }
   ],
   "source": [
    "\"\"\" \n",
    "AA 85 100\n",
    "BB 70 84\n",
    "CC 55 70\n",
    "\"\"\" \n",
    "not_ = input(\"Notunuzu Giriniz:\") # str # input fonk her zaman str cevap döner\n",
    "if not_ and not_.isdigit():\n",
    "    not_ = int(not_)\n",
    "    if  85 <= not_ <= 100:  # not_ > 85 and not_ < 100: \n",
    "        print(\"AA\")\n",
    "    else:\n",
    "        if 70 <= not_ <= 84:\n",
    "            print(\"BB\")\n",
    "        else:\n",
    "            if 55 <= not_ <= 70:\n",
    "                print(\"CC\")\n",
    "            else:\n",
    "                print(\"Yanlış Not Girişi\")\n",
    "else:\n",
    "    print(\"Geçersiz Not\")"
   ]
  },
  {
   "attachments": {},
   "cell_type": "markdown",
   "metadata": {},
   "source": [
    "### elif"
   ]
  },
  {
   "cell_type": "code",
   "execution_count": 24,
   "metadata": {},
   "outputs": [
    {
     "name": "stdout",
     "output_type": "stream",
     "text": [
      "BB\n"
     ]
    }
   ],
   "source": [
    "\"\"\" \n",
    "AA 85 100\n",
    "BB 70 84\n",
    "CC 55 70\n",
    "\"\"\" \n",
    "not_ = input(\"Notunuzu Giriniz:\") # str # input fonk her zaman str cevap döner\n",
    "if not_ and not_.isdigit():\n",
    "    not_ = int(not_)\n",
    "    if  85 <= not_ <= 100:  # not_ > 85 and not_ < 100: \n",
    "        print(\"AA\")\n",
    "    elif 70 <= not_ <= 84:\n",
    "        print(\"BB\")\n",
    "    elif 55 <= not_ <= 70:\n",
    "        print(\"CC\")\n",
    "    else:\n",
    "        print(\"Yanlış Not Girişi\")\n",
    "else:\n",
    "    print(\"Geçersiz Not\")"
   ]
  },
  {
   "attachments": {},
   "cell_type": "markdown",
   "metadata": {},
   "source": [
    "```\n",
    "for i in range(1,100):\n",
    "    ###########################\n",
    "    ### bir if bloğu ile gelen sayının 2 ye bölünmesi durumunda ekrana yazdıran kodu yazalım\n",
    "    ###########################\n",
    "```"
   ]
  },
  {
   "cell_type": "code",
   "execution_count": 26,
   "metadata": {},
   "outputs": [
    {
     "name": "stdout",
     "output_type": "stream",
     "text": [
      "2-4-6-8-10-12-14-16-18-20-22-24-26-28-30-32-34-36-38-40-42-44-46-48-50-52-54-56-58-60-62-64-66-68-70-72-74-76-78-80-82-84-86-88-90-92-94-96-98-"
     ]
    }
   ],
   "source": [
    "for i in range(1,100):\n",
    "    if i % 2 == 0: # not i % 2 > 0: \n",
    "        print(i,end=\"-\")"
   ]
  },
  {
   "cell_type": "code",
   "execution_count": 27,
   "metadata": {},
   "outputs": [
    {
     "name": "stdout",
     "output_type": "stream",
     "text": [
      "0-2-4-6-8-10-12-14-16-18-20-22-24-26-28-30-32-34-36-38-40-42-44-46-48-50-52-54-56-58-60-62-64-66-68-70-72-74-76-78-80-82-84-86-88-90-92-94-96-98-"
     ]
    }
   ],
   "source": [
    "for i in range(0,100,2):\n",
    "    print(i,end=\"-\")\n",
    "    # if i % 2 == 0: # not i % 2 > 0: \n",
    "    #     print(i,end=\"-\")"
   ]
  },
  {
   "cell_type": "code",
   "execution_count": 30,
   "metadata": {},
   "outputs": [
    {
     "name": "stdout",
     "output_type": "stream",
     "text": [
      "0-2-4-6-8-10-12-14-16-18-20-22-24-26-28-30-32-34-36-38-40-42-44-46-48-50-52-54-56-58-60-62-64-66-68-70-72-74-76-78-80-82-84-86-88-90-92-94-96-98\n"
     ]
    }
   ],
   "source": [
    "print(*[i for i in range(0,100,2)],sep=\"-\")"
   ]
  },
  {
   "attachments": {},
   "cell_type": "markdown",
   "metadata": {},
   "source": [
    "#### Egzersiz\n",
    "* Kullanıcıdan alınan ad bilgisine göre şehir tahmini yapan bir python programı yazınız."
   ]
  },
  {
   "cell_type": "code",
   "execution_count": 31,
   "metadata": {},
   "outputs": [
    {
     "name": "stdout",
     "output_type": "stream",
     "text": [
      "ahmet, tahminime göre şu anda Ankara'dasınız.\n"
     ]
    }
   ],
   "source": [
    "import random\n",
    "\n",
    "ad = input(\"Adınız nedir? \")\n",
    "\n",
    "şehirler = [\"İstanbul\", \"Ankara\", \"İzmir\", \"Bursa\", \"Adana\", \"Antalya\", \"Konya\", \"Kayseri\", \"Trabzon\", \"Gaziantep\"]\n",
    "şehir = random.choice(şehirler)\n",
    "\n",
    "if şehir == \"İstanbul\":\n",
    "    print(ad + \", tahminime göre şu anda İstanbul'dasınız.\")\n",
    "elif şehir == \"Ankara\":\n",
    "    print(ad + \", tahminime göre şu anda Ankara'dasınız.\")\n",
    "elif şehir == \"İzmir\":\n",
    "    print(ad + \", tahminime göre şu anda İzmir'desiniz.\")\n",
    "else:\n",
    "    print(ad + \", tahminime göre şu anda \" + şehir + \" şehrinde olabilirsiniz.\")\n"
   ]
  },
  {
   "attachments": {},
   "cell_type": "markdown",
   "metadata": {},
   "source": [
    "### Egzersiz\n",
    "* iki açısı girilen bir üçgenin tipini söyleyen python programını yazalım\n",
    "    - ikizkenar üçgen,dik üçgen,eşkenar üçgen,çeşitkenar üçgen\n",
    "    - açıların toplamının 180 olduğu kontrol edilmelidir\n"
   ]
  },
  {
   "cell_type": "code",
   "execution_count": 32,
   "metadata": {},
   "outputs": [
    {
     "name": "stdout",
     "output_type": "stream",
     "text": [
      "İkizkenar Üçgen\n",
      "Dik üçgen\n"
     ]
    }
   ],
   "source": [
    "aci1 = input(\"1. Açıyı Giriniz:\") # 45\n",
    "aci2 = input(\"2. Açıyı Giriniz:\") # 45\n",
    "if aci1 and aci2 and aci1.isdigit() and aci2.isdigit():\n",
    "    aci1,aci2 = int(aci1),int(aci2) # int veritipine dönüştürme\n",
    "    aciList = [180-(aci1+aci2),aci1,aci2] # listeye acilari ekleme [90,45,45]\n",
    "    if sum(aciList) == 180: # toplam kontrol ========= summary\n",
    "        acilar = set(aciList) # {90,45} # set veri tipinde tekrarlı eleman olmaz\n",
    "        if len(acilar) == 3: \n",
    "            print(\"Çeşitkenar Üçgen\")\n",
    "        elif len(acilar) == 2: # =======\n",
    "            print(\"İkizkenar Üçgen\")\n",
    "        elif len(acilar) == 1:\n",
    "            print(\"Eşkenar Üçgen\")\n",
    "        if 90 in acilar: # ======\n",
    "            print(\"Dik üçgen\")\n",
    "    else:\n",
    "        print(\"Açı Değeri Hatalı\")\n",
    "else:\n",
    "    print(\"Giriş Hatası\")"
   ]
  },
  {
   "attachments": {},
   "cell_type": "markdown",
   "metadata": {},
   "source": [
    "#### One Line İf One Line İf Else"
   ]
  },
  {
   "cell_type": "code",
   "execution_count": 33,
   "metadata": {},
   "outputs": [
    {
     "name": "stdout",
     "output_type": "stream",
     "text": [
      "Çift Sayı\n"
     ]
    }
   ],
   "source": [
    "a = 2\n",
    "if a % 2 > 0:print(\"Tek Sayı\")\n",
    "else:print(\"Çift Sayı\")"
   ]
  },
  {
   "cell_type": "code",
   "execution_count": 35,
   "metadata": {},
   "outputs": [
    {
     "name": "stdout",
     "output_type": "stream",
     "text": [
      "Tek\n"
     ]
    }
   ],
   "source": [
    "a = int(input(\"sayıyı giriniz:\"))\n",
    "sonuc = \"Tek\" if a % 2 > 0 else \"Çift\"\n",
    "##### doğruysa İF KOŞUL ELSE yanlışsa değer\n",
    "print(sonuc)"
   ]
  },
  {
   "cell_type": "code",
   "execution_count": 36,
   "metadata": {},
   "outputs": [
    {
     "name": "stdout",
     "output_type": "stream",
     "text": [
      "İçinde\n"
     ]
    }
   ],
   "source": [
    "liste = [1,2,3,4]\n",
    "if 2 in liste:\n",
    "    print(\"Listede var\")\n"
   ]
  },
  {
   "cell_type": "code",
   "execution_count": 37,
   "metadata": {},
   "outputs": [
    {
     "name": "stdout",
     "output_type": "stream",
     "text": [
      "Var\n"
     ]
    }
   ],
   "source": [
    "metin = \"Ankara\"\n",
    "if \"a\" in metin:\n",
    "    print(\"Var\")"
   ]
  },
  {
   "cell_type": "code",
   "execution_count": 38,
   "metadata": {},
   "outputs": [
    {
     "name": "stdout",
     "output_type": "stream",
     "text": [
      "var1 büyük\n"
     ]
    }
   ],
   "source": [
    "var1 = \"a\"\n",
    "var2 = \"A\"\n",
    "if var1 > var2:\n",
    "    print(\"var1 büyük\")\n",
    "else:\n",
    "    print(\"var2 büyük\")"
   ]
  },
  {
   "cell_type": "code",
   "execution_count": 39,
   "metadata": {},
   "outputs": [
    {
     "name": "stdout",
     "output_type": "stream",
     "text": [
      "var1 Büyük\n"
     ]
    }
   ],
   "source": [
    "print(\"var1 Büyük\" if \"a\" > \"A\" else \"var2 Büyük\")"
   ]
  },
  {
   "cell_type": "code",
   "execution_count": 41,
   "metadata": {},
   "outputs": [
    {
     "name": "stdout",
     "output_type": "stream",
     "text": [
      "[15, 30, 45, 60, 75, 90]\n"
     ]
    }
   ],
   "source": [
    "liste = [i for i in range(1,100) if i % 3 == 0 and i % 5 == 0]\n",
    "print(liste)"
   ]
  },
  {
   "cell_type": "code",
   "execution_count": null,
   "metadata": {},
   "outputs": [],
   "source": []
  }
 ],
 "metadata": {
  "kernelspec": {
   "display_name": "Python 3",
   "language": "python",
   "name": "python3"
  },
  "language_info": {
   "codemirror_mode": {
    "name": "ipython",
    "version": 3
   },
   "file_extension": ".py",
   "mimetype": "text/x-python",
   "name": "python",
   "nbconvert_exporter": "python",
   "pygments_lexer": "ipython3",
   "version": "3.8.16"
  },
  "orig_nbformat": 4
 },
 "nbformat": 4,
 "nbformat_minor": 2
}
