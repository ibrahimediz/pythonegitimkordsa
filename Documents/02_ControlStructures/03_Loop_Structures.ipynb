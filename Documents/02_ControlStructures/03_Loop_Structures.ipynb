{
 "cells": [
  {
   "attachments": {},
   "cell_type": "markdown",
   "metadata": {},
   "source": [
    "# Loop Structures\n",
    "* range\n",
    "* for\n",
    "* while\n",
    "* break\n",
    "* continue\n",
    "* else\n",
    "* One Line Loops"
   ]
  },
  {
   "attachments": {},
   "cell_type": "markdown",
   "metadata": {},
   "source": [
    "### range\n",
    "``` range(başlangıç,bitiş,adim) ```"
   ]
  },
  {
   "cell_type": "code",
   "execution_count": 2,
   "metadata": {},
   "outputs": [
    {
     "data": {
      "text/plain": [
       "range(5, 50, 5)"
      ]
     },
     "execution_count": 2,
     "metadata": {},
     "output_type": "execute_result"
    }
   ],
   "source": [
    "range(5,50,5)"
   ]
  },
  {
   "cell_type": "code",
   "execution_count": 3,
   "metadata": {},
   "outputs": [
    {
     "name": "stdout",
     "output_type": "stream",
     "text": [
      "range(5, 50, 5)\n"
     ]
    }
   ],
   "source": [
    "print(range(5,50,5))"
   ]
  },
  {
   "attachments": {},
   "cell_type": "markdown",
   "metadata": {},
   "source": [
    "### `* unpack operator`"
   ]
  },
  {
   "cell_type": "code",
   "execution_count": 5,
   "metadata": {},
   "outputs": [
    {
     "name": "stdout",
     "output_type": "stream",
     "text": [
      "1 2 3 4 5\n"
     ]
    }
   ],
   "source": [
    "print(*[1,2,3,4,5]) # * sayesinde tüm elemanlar ayrı ayrı yazılır. \n",
    "#print fonksiyonu içerisinde sep parametresinde yer alan değer kullanılır"
   ]
  },
  {
   "cell_type": "code",
   "execution_count": 6,
   "metadata": {},
   "outputs": [
    {
     "name": "stdout",
     "output_type": "stream",
     "text": [
      "1-2-3-4-5\n"
     ]
    }
   ],
   "source": [
    "print(*[1,2,3,4,5],sep=\"-\") # * sayesinde tüm elemanlar ayrı ayrı yazılır. \n",
    "#print fonksiyonu içerisinde sep parametresinde yer alan değer kullanılır"
   ]
  },
  {
   "cell_type": "code",
   "execution_count": 7,
   "metadata": {},
   "outputs": [
    {
     "name": "stdout",
     "output_type": "stream",
     "text": [
      "1;2;3;4;5\n"
     ]
    }
   ],
   "source": [
    "print(*[1,2,3,4,5],sep=\";\") # * sayesinde tüm elemanlar ayrı ayrı yazılır. \n",
    "#print fonksiyonu içerisinde sep parametresinde yer alan değer kullanılır"
   ]
  },
  {
   "cell_type": "code",
   "execution_count": 9,
   "metadata": {},
   "outputs": [
    {
     "name": "stdout",
     "output_type": "stream",
     "text": [
      "5-10-15-20-25-30-35-40-45\n"
     ]
    }
   ],
   "source": [
    "print(*range(5,50,5),sep=\"-\")"
   ]
  },
  {
   "cell_type": "code",
   "execution_count": 10,
   "metadata": {},
   "outputs": [
    {
     "name": "stdout",
     "output_type": "stream",
     "text": [
      "1-2-3-4-5-6-7-8-9\n"
     ]
    }
   ],
   "source": [
    "print(*range(1,10),sep=\"-\")"
   ]
  },
  {
   "cell_type": "code",
   "execution_count": 11,
   "metadata": {},
   "outputs": [
    {
     "name": "stdout",
     "output_type": "stream",
     "text": [
      "0-1-2-3-4-5-6-7-8-9\n"
     ]
    }
   ],
   "source": [
    "print(*range(10),sep=\"-\")"
   ]
  },
  {
   "cell_type": "code",
   "execution_count": 12,
   "metadata": {},
   "outputs": [
    {
     "name": "stdout",
     "output_type": "stream",
     "text": [
      "10-9-8-7-6-5-4-3-2\n"
     ]
    }
   ],
   "source": [
    "print(*range(10,1,-1),sep=\"-\")"
   ]
  },
  {
   "attachments": {},
   "cell_type": "markdown",
   "metadata": {},
   "source": [
    "### for"
   ]
  },
  {
   "cell_type": "code",
   "execution_count": 14,
   "metadata": {},
   "outputs": [
    {
     "name": "stdout",
     "output_type": "stream",
     "text": [
      "Merhaba 1\n",
      "Merhaba 2\n",
      "Merhaba 3\n",
      "Merhaba 4\n",
      "Merhaba 5\n",
      "Merhaba 6\n",
      "Merhaba 7\n",
      "Merhaba 8\n",
      "Merhaba 9\n"
     ]
    }
   ],
   "source": [
    "for i in range(1,10):\n",
    "    print(\"Merhaba\",i)"
   ]
  },
  {
   "cell_type": "code",
   "execution_count": 22,
   "metadata": {},
   "outputs": [
    {
     "name": "stdout",
     "output_type": "stream",
     "text": [
      "0 A\n",
      "1 n\n",
      "2 k\n",
      "3 a\n",
      "4 r\n",
      "5 a\n",
      "Döngü Bitti\n"
     ]
    }
   ],
   "source": [
    "metin = \"Ankara\"\n",
    "for i in range(len(metin)):\n",
    "    print(i,metin[i])\n",
    "print(\"Döngü Bitti\")"
   ]
  },
  {
   "cell_type": "code",
   "execution_count": 24,
   "metadata": {},
   "outputs": [
    {
     "name": "stdout",
     "output_type": "stream",
     "text": [
      "0 a\n",
      "1 b\n",
      "2 c\n",
      "3 d\n",
      "4 e\n",
      "5 f\n",
      "Döngü Bitti\n"
     ]
    }
   ],
   "source": [
    "liste = [\"a\",\"b\",\"c\",\"d\",\"e\",\"f\"]\n",
    "for i in range(len(liste)):\n",
    "    print(i,liste[i])\n",
    "print(\"Döngü Bitti\")"
   ]
  },
  {
   "attachments": {},
   "cell_type": "markdown",
   "metadata": {},
   "source": [
    "#### foreach"
   ]
  },
  {
   "cell_type": "code",
   "execution_count": 26,
   "metadata": {},
   "outputs": [
    {
     "name": "stdout",
     "output_type": "stream",
     "text": [
      "a\n",
      "b\n",
      "c\n",
      "d\n",
      "e\n",
      "f\n"
     ]
    }
   ],
   "source": [
    "liste = [\"a\",\"b\",\"c\",\"d\",\"e\",\"f\"]\n",
    "for item in liste:\n",
    "    print(item)"
   ]
  },
  {
   "attachments": {},
   "cell_type": "markdown",
   "metadata": {},
   "source": [
    "for loop yapısı sınırını bildiğimiz bizim belirlediğimiz döngüler için kullanılır"
   ]
  },
  {
   "attachments": {},
   "cell_type": "markdown",
   "metadata": {},
   "source": [
    "### While"
   ]
  },
  {
   "cell_type": "code",
   "execution_count": 27,
   "metadata": {},
   "outputs": [
    {
     "name": "stdout",
     "output_type": "stream",
     "text": [
      "0\n",
      "1\n",
      "2\n",
      "3\n",
      "4\n"
     ]
    }
   ],
   "source": [
    "for i in range(5):\n",
    "    print(i)"
   ]
  },
  {
   "cell_type": "code",
   "execution_count": 28,
   "metadata": {},
   "outputs": [
    {
     "name": "stdout",
     "output_type": "stream",
     "text": [
      "0\n",
      "1\n",
      "2\n",
      "3\n",
      "4\n"
     ]
    }
   ],
   "source": [
    "adim = 0\n",
    "while adim < 5:\n",
    "    print(adim)\n",
    "    adim += 1 # adim = adim + 1\n"
   ]
  },
  {
   "attachments": {},
   "cell_type": "markdown",
   "metadata": {},
   "source": [
    "while döngüsü şarta bağlı olarak ne kadar çalışacağını bilmediğimiz döngüler için kullanılır"
   ]
  },
  {
   "attachments": {},
   "cell_type": "markdown",
   "metadata": {},
   "source": [
    "Örnek => Sayısal Loto Kolonu Çıkarma"
   ]
  },
  {
   "cell_type": "code",
   "execution_count": 30,
   "metadata": {},
   "outputs": [
    {
     "name": "stdout",
     "output_type": "stream",
     "text": [
      "11\n",
      "19\n",
      "43\n",
      "49\n",
      "48\n",
      "19\n"
     ]
    }
   ],
   "source": [
    "import random as rnd\n",
    "for i in range(6):\n",
    "    print(rnd.randint(1,49))"
   ]
  },
  {
   "cell_type": "code",
   "execution_count": 37,
   "metadata": {},
   "outputs": [
    {
     "name": "stdout",
     "output_type": "stream",
     "text": [
      "6 17 21 32 38 47\n"
     ]
    }
   ],
   "source": [
    "import random as rnd\n",
    "liste = []\n",
    "for i in range(6):\n",
    "    liste.append(rnd.randint(1,49))\n",
    "liste.sort()\n",
    "print(*liste)"
   ]
  },
  {
   "cell_type": "code",
   "execution_count": 3,
   "metadata": {},
   "outputs": [
    {
     "name": "stdout",
     "output_type": "stream",
     "text": [
      "14 20 23 30 39 46\n"
     ]
    }
   ],
   "source": [
    "import random as rnd\n",
    "liste = []\n",
    "for i in range(6):\n",
    "    sayi = rnd.randint(1,49)\n",
    "    while sayi in liste:\n",
    "        sayi = rnd.randint(1,49)\n",
    "    liste.append(sayi)\n",
    "liste.sort()\n",
    "print(*liste)"
   ]
  },
  {
   "attachments": {},
   "cell_type": "markdown",
   "metadata": {},
   "source": [
    "```\n",
    "import random as rnd\n",
    "liste = []\n",
    "for i in range(6):\n",
    "    sayi = rnd.randint(1,49)\n",
    "    while sayi in liste:\n",
    "        sayi = rnd.randint(1,49)\n",
    "    liste.append(sayi)\n",
    "liste.sort()\n",
    "print(*liste)\n",
    "```\n",
    "yukarıdaki kod parçasından faydalanarak 6 sayısal loto kolonunu ekrana yazdıran python kodunu yazınız"
   ]
  },
  {
   "cell_type": "code",
   "execution_count": null,
   "metadata": {},
   "outputs": [],
   "source": []
  }
 ],
 "metadata": {
  "kernelspec": {
   "display_name": "Python 3",
   "language": "python",
   "name": "python3"
  },
  "language_info": {
   "codemirror_mode": {
    "name": "ipython",
    "version": 3
   },
   "file_extension": ".py",
   "mimetype": "text/x-python",
   "name": "python",
   "nbconvert_exporter": "python",
   "pygments_lexer": "ipython3",
   "version": "3.8.16"
  },
  "orig_nbformat": 4
 },
 "nbformat": 4,
 "nbformat_minor": 2
}
