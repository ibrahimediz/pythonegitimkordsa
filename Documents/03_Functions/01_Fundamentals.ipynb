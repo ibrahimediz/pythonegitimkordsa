{
 "cells": [
  {
   "attachments": {},
   "cell_type": "markdown",
   "metadata": {},
   "source": [
    "# Functions\n",
    "* Tanımlama\n",
    "* Çağırma\n",
    "* Basit Parametre Tanımı\n",
    "* Return Deyimi\n",
    "* Fonksiyonun Tipi"
   ]
  },
  {
   "attachments": {},
   "cell_type": "markdown",
   "metadata": {},
   "source": [
    "### Tanımlama"
   ]
  },
  {
   "cell_type": "code",
   "execution_count": 4,
   "metadata": {},
   "outputs": [
    {
     "name": "stdout",
     "output_type": "stream",
     "text": [
      "<class 'function'>\n"
     ]
    }
   ],
   "source": [
    "def Fonk(): # Tanımlama\n",
    "    pass\n",
    "print(type(Fonk))"
   ]
  },
  {
   "attachments": {},
   "cell_type": "markdown",
   "metadata": {},
   "source": [
    "### Çağırma"
   ]
  },
  {
   "cell_type": "code",
   "execution_count": 3,
   "metadata": {},
   "outputs": [],
   "source": [
    "Fonk() # Çağırma"
   ]
  },
  {
   "cell_type": "code",
   "execution_count": 5,
   "metadata": {},
   "outputs": [],
   "source": [
    "def Fonk():\n",
    "    for i in range(5):\n",
    "        print(\"Merhaba\")\n",
    "        print(\"Nasılsın?\")\n"
   ]
  },
  {
   "cell_type": "code",
   "execution_count": 6,
   "metadata": {},
   "outputs": [
    {
     "name": "stdout",
     "output_type": "stream",
     "text": [
      "Merhaba\n",
      "Nasılsın?\n",
      "Merhaba\n",
      "Nasılsın?\n",
      "Merhaba\n",
      "Nasılsın?\n",
      "Merhaba\n",
      "Nasılsın?\n",
      "Merhaba\n",
      "Nasılsın?\n"
     ]
    }
   ],
   "source": [
    "Fonk()"
   ]
  },
  {
   "cell_type": "code",
   "execution_count": 9,
   "metadata": {},
   "outputs": [],
   "source": [
    "def Fonk():\n",
    "    for i in range(5):\n",
    "        print(\"Merhaba\")\n",
    "        print(\"Nasılsın?\",\"İbrahim\")"
   ]
  },
  {
   "cell_type": "code",
   "execution_count": 10,
   "metadata": {},
   "outputs": [
    {
     "name": "stdout",
     "output_type": "stream",
     "text": [
      "Merhaba\n",
      "Nasılsın? İbrahim\n",
      "Merhaba\n",
      "Nasılsın? İbrahim\n",
      "Merhaba\n",
      "Nasılsın? İbrahim\n",
      "Merhaba\n",
      "Nasılsın? İbrahim\n",
      "Merhaba\n",
      "Nasılsın? İbrahim\n"
     ]
    }
   ],
   "source": [
    "Fonk()"
   ]
  },
  {
   "cell_type": "code",
   "execution_count": 11,
   "metadata": {},
   "outputs": [],
   "source": [
    "def Fonk(isim):\n",
    "    for i in range(5):\n",
    "        print(\"Merhaba\")\n",
    "        print(\"Nasılsın?\",isim)"
   ]
  },
  {
   "cell_type": "code",
   "execution_count": 12,
   "metadata": {},
   "outputs": [
    {
     "name": "stdout",
     "output_type": "stream",
     "text": [
      "Merhaba\n",
      "Nasılsın? İbrahim\n",
      "Merhaba\n",
      "Nasılsın? İbrahim\n",
      "Merhaba\n",
      "Nasılsın? İbrahim\n",
      "Merhaba\n",
      "Nasılsın? İbrahim\n",
      "Merhaba\n",
      "Nasılsın? İbrahim\n"
     ]
    }
   ],
   "source": [
    "Fonk(\"İbrahim\")"
   ]
  },
  {
   "cell_type": "code",
   "execution_count": 13,
   "metadata": {},
   "outputs": [
    {
     "name": "stdout",
     "output_type": "stream",
     "text": [
      "Merhaba\n",
      "Nasılsın? Muhsin\n",
      "Merhaba\n",
      "Nasılsın? Muhsin\n",
      "Merhaba\n",
      "Nasılsın? Muhsin\n",
      "Merhaba\n",
      "Nasılsın? Muhsin\n",
      "Merhaba\n",
      "Nasılsın? Muhsin\n"
     ]
    }
   ],
   "source": [
    "Fonk(\"Muhsin\")"
   ]
  },
  {
   "cell_type": "code",
   "execution_count": 16,
   "metadata": {},
   "outputs": [],
   "source": [
    "def Fonk(isim,soyisim):\n",
    "    for i in range(1):\n",
    "        print(\"Merhaba\")\n",
    "        print(\"Nasılsın?\",isim,soyisim)"
   ]
  },
  {
   "cell_type": "code",
   "execution_count": 17,
   "metadata": {},
   "outputs": [
    {
     "name": "stdout",
     "output_type": "stream",
     "text": [
      "Merhaba\n",
      "Nasılsın? İbrahim EDİZ\n"
     ]
    }
   ],
   "source": [
    "Fonk(\"İbrahim\",\"EDİZ\")"
   ]
  },
  {
   "attachments": {},
   "cell_type": "markdown",
   "metadata": {},
   "source": [
    "### Egzersiz\n",
    "Girilen iki sayının toplamını ekrana yazdıran fonksiyonu yazınız"
   ]
  },
  {
   "cell_type": "code",
   "execution_count": 24,
   "metadata": {},
   "outputs": [
    {
     "name": "stdout",
     "output_type": "stream",
     "text": [
      "5\n"
     ]
    }
   ],
   "source": [
    "def fonk(a,b):\n",
    "    print(a+b)\n",
    "fonk(2,3)"
   ]
  },
  {
   "attachments": {},
   "cell_type": "markdown",
   "metadata": {},
   "source": [
    "### return deyimi"
   ]
  },
  {
   "cell_type": "code",
   "execution_count": 4,
   "metadata": {},
   "outputs": [
    {
     "name": "stdout",
     "output_type": "stream",
     "text": [
      "5\n"
     ]
    }
   ],
   "source": [
    "def fonk1(a,b):\n",
    "    return a + b \n",
    "c = fonk1(2,3)\n",
    "print(c)"
   ]
  },
  {
   "cell_type": "code",
   "execution_count": 5,
   "metadata": {},
   "outputs": [
    {
     "name": "stdout",
     "output_type": "stream",
     "text": [
      "5\n",
      "None\n"
     ]
    }
   ],
   "source": [
    "def fonk2(a,b):\n",
    "    print(a + b)\n",
    "c = fonk2(2,3)\n",
    "print(c)"
   ]
  },
  {
   "cell_type": "code",
   "execution_count": 6,
   "metadata": {},
   "outputs": [
    {
     "name": "stdout",
     "output_type": "stream",
     "text": [
      "<class 'int'>\n",
      "5\n",
      "<class 'NoneType'>\n"
     ]
    }
   ],
   "source": [
    "print(type(fonk1(2,3)))\n",
    "print(type(fonk2(2,3)))"
   ]
  },
  {
   "cell_type": "code",
   "execution_count": 7,
   "metadata": {},
   "outputs": [
    {
     "name": "stdout",
     "output_type": "stream",
     "text": [
      "5\n"
     ]
    }
   ],
   "source": [
    "def fonk1(a,b):\n",
    "    return a + b \n",
    "c = fonk1(2,3)\n",
    "print(c)"
   ]
  },
  {
   "cell_type": "code",
   "execution_count": 9,
   "metadata": {},
   "outputs": [
    {
     "name": "stdout",
     "output_type": "stream",
     "text": [
      "<class 'int'>\n",
      "<class 'list'>\n",
      "<class 'str'>\n"
     ]
    }
   ],
   "source": [
    "print(type(fonk1(2,3)))\n",
    "print(type(fonk1([2],[3])))\n",
    "print(type(fonk1(\"2\",\"3\")))"
   ]
  },
  {
   "cell_type": "code",
   "execution_count": 10,
   "metadata": {},
   "outputs": [
    {
     "name": "stdout",
     "output_type": "stream",
     "text": [
      "<class 'tuple'>\n"
     ]
    }
   ],
   "source": [
    "def fonk1(a,b):\n",
    "    return a,b,a + b\n",
    "print(type(fonk1(2,3)))"
   ]
  },
  {
   "cell_type": "code",
   "execution_count": 11,
   "metadata": {},
   "outputs": [
    {
     "name": "stdout",
     "output_type": "stream",
     "text": [
      "<class 'tuple'>\n"
     ]
    }
   ],
   "source": [
    "def fonk1(a,b):\n",
    "    return a,b,a + b\n",
    "    print(\"Merhaba\") # ÇALIŞMAZ\n",
    "print(type(fonk1(2,3)))"
   ]
  },
  {
   "cell_type": "code",
   "execution_count": 13,
   "metadata": {},
   "outputs": [],
   "source": [
    "def fonk1(a,b):\n",
    "    return a+b\n",
    "    print(\"Merhaba\") # ÇALIŞMAZ\n"
   ]
  },
  {
   "cell_type": "code",
   "execution_count": 14,
   "metadata": {},
   "outputs": [
    {
     "data": {
      "text/plain": [
       "13"
      ]
     },
     "execution_count": 14,
     "metadata": {},
     "output_type": "execute_result"
    }
   ],
   "source": [
    "fonk1(fonk1(2,3),fonk1(3,5))"
   ]
  },
  {
   "cell_type": "code",
   "execution_count": null,
   "metadata": {},
   "outputs": [],
   "source": []
  }
 ],
 "metadata": {
  "kernelspec": {
   "display_name": "Python 3",
   "language": "python",
   "name": "python3"
  },
  "language_info": {
   "codemirror_mode": {
    "name": "ipython",
    "version": 3
   },
   "file_extension": ".py",
   "mimetype": "text/x-python",
   "name": "python",
   "nbconvert_exporter": "python",
   "pygments_lexer": "ipython3",
   "version": "3.8.16"
  },
  "orig_nbformat": 4
 },
 "nbformat": 4,
 "nbformat_minor": 2
}
