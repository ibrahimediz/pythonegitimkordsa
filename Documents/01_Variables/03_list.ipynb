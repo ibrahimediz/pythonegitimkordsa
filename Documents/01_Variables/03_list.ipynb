{
 "cells": [
  {
   "attachments": {},
   "cell_type": "markdown",
   "metadata": {},
   "source": [
    "# List Veri Tipi\n",
    "* Tanımlama\n",
    "* Erişim\n",
    "* Ekleme\n",
    "* Silme\n",
    "* Güncelleme\n",
    "* Yardımcı Fonksiyonlar\n",
    "    - copy\n",
    "    - count\n",
    "    - index\n",
    "    - sort\n",
    "    - reverse"
   ]
  },
  {
   "attachments": {},
   "cell_type": "markdown",
   "metadata": {},
   "source": [
    "### Tanımlama"
   ]
  },
  {
   "cell_type": "code",
   "execution_count": 1,
   "metadata": {},
   "outputs": [
    {
     "name": "stdout",
     "output_type": "stream",
     "text": [
      "<class 'list'>\n"
     ]
    }
   ],
   "source": [
    "liste = []\n",
    "print(type(liste))"
   ]
  },
  {
   "cell_type": "code",
   "execution_count": 6,
   "metadata": {},
   "outputs": [
    {
     "name": "stdout",
     "output_type": "stream",
     "text": [
      "1\n",
      "<class 'list'>\n"
     ]
    }
   ],
   "source": [
    "liste = [str,\"12\",12,[1,2,3],(1,2,3),{\"1\":\"Bir\"},print,print(1)] # her bir elemanı nesne şeklinde tuttuğundan \n",
    "# dolayı birbirinden farklı tipte eleman bir arada tutulabilir\n",
    "print(type(liste))"
   ]
  },
  {
   "cell_type": "code",
   "execution_count": null,
   "metadata": {},
   "outputs": [],
   "source": [
    "liste = [[1,2,3],[4,5,6]]\n"
   ]
  },
  {
   "attachments": {},
   "cell_type": "markdown",
   "metadata": {},
   "source": [
    "### Erişim"
   ]
  },
  {
   "cell_type": "code",
   "execution_count": 7,
   "metadata": {},
   "outputs": [],
   "source": [
    "liste = [1,2,3,4,5]\n",
    "#        0 1 2 3 4\n",
    "#.      -5-4-3-2-1\n",
    "liste[0]"
   ]
  },
  {
   "cell_type": "code",
   "execution_count": 10,
   "metadata": {},
   "outputs": [
    {
     "data": {
      "text/plain": [
       "['a', 'b', 'c']"
      ]
     },
     "execution_count": 10,
     "metadata": {},
     "output_type": "execute_result"
    }
   ],
   "source": [
    "liste = [\"a\",\"b\",\"c\",\"d\",\"e\"]\n",
    "#         0   1   2   3   4\n",
    "#.       -5  -4  -3  -2  -1\n",
    "liste[0:3]"
   ]
  },
  {
   "cell_type": "code",
   "execution_count": 13,
   "metadata": {},
   "outputs": [
    {
     "data": {
      "text/plain": [
       "['a', 'b', 'c']"
      ]
     },
     "execution_count": 13,
     "metadata": {},
     "output_type": "execute_result"
    }
   ],
   "source": [
    "liste = [\"a\",\"b\",\"c\",\"d\",\"e\"]\n",
    "#         0   1   2   3   4\n",
    "#.       -5  -4  -3  -2  -1\n",
    "liste[:3] # başlangıçtan itibaren"
   ]
  },
  {
   "cell_type": "code",
   "execution_count": 14,
   "metadata": {},
   "outputs": [
    {
     "data": {
      "text/plain": [
       "['d', 'e']"
      ]
     },
     "execution_count": 14,
     "metadata": {},
     "output_type": "execute_result"
    }
   ],
   "source": [
    "liste = [\"a\",\"b\",\"c\",\"d\",\"e\"]\n",
    "#         0   1   2   3   4\n",
    "#.       -5  -4  -3  -2  -1\n",
    "liste[3:] # başlangıçtan itibaren"
   ]
  },
  {
   "cell_type": "code",
   "execution_count": 17,
   "metadata": {},
   "outputs": [
    {
     "data": {
      "text/plain": [
       "['c', 'd']"
      ]
     },
     "execution_count": 17,
     "metadata": {},
     "output_type": "execute_result"
    }
   ],
   "source": [
    "liste = [\"a\",\"b\",\"c\",\"d\",\"e\"]\n",
    "#         0   1   2   3   4\n",
    "#.       -5  -4  -3  -2  -1\n",
    "liste[2:-1] # başlangıçtan itibaren"
   ]
  },
  {
   "attachments": {},
   "cell_type": "markdown",
   "metadata": {},
   "source": [
    "##### Egzersiz #####\n",
    "1. liste = [200,250,300,350,400]<br>\n",
    "    a. yukarıda tanımlanan listeden  1.,2.,3. elemanı ekrana yazdıran programı yazınız<br>\n",
    "    b. sondan 2 elemanı ekrana yazdıran kodu yazınız."
   ]
  },
  {
   "cell_type": "code",
   "execution_count": 19,
   "metadata": {},
   "outputs": [
    {
     "data": {
      "text/plain": [
       "[200, 250, 300]"
      ]
     },
     "execution_count": 19,
     "metadata": {},
     "output_type": "execute_result"
    }
   ],
   "source": [
    "liste = [200,250,300,350,400]\n",
    "#         0.  1.  2.  3.  4\n",
    "#        -5.  -4. -3. -2. -1\n",
    "liste[:3]"
   ]
  },
  {
   "cell_type": "code",
   "execution_count": 20,
   "metadata": {},
   "outputs": [
    {
     "data": {
      "text/plain": [
       "[350, 400]"
      ]
     },
     "execution_count": 20,
     "metadata": {},
     "output_type": "execute_result"
    }
   ],
   "source": [
    "liste[-2:]"
   ]
  },
  {
   "attachments": {},
   "cell_type": "markdown",
   "metadata": {},
   "source": [
    "https://us06web.zoom.us/j/82251963555 \n",
    "Toplantı Kimliği: 822 5196 3555 \n",
    "Parola: 757877"
   ]
  },
  {
   "attachments": {},
   "cell_type": "markdown",
   "metadata": {},
   "source": [
    "### Ekleme\n",
    "* concatenate\n",
    "* insert\n",
    "* append\n",
    "* extend"
   ]
  },
  {
   "cell_type": "code",
   "execution_count": 22,
   "metadata": {},
   "outputs": [
    {
     "name": "stdout",
     "output_type": "stream",
     "text": [
      "[1, 2, 3, 4, 5, 6]\n"
     ]
    }
   ],
   "source": [
    "# concetenate tüm veri tiplerinde geçerli\n",
    "var1 = \"a\" + \"b\" # concat\n",
    "liste1 = [1,2,3]\n",
    "liste2 = [4,5,6]\n",
    "liste3 = liste1 + liste2 # concat\n",
    "print(liste3)"
   ]
  },
  {
   "cell_type": "code",
   "execution_count": 27,
   "metadata": {},
   "outputs": [
    {
     "name": "stdout",
     "output_type": "stream",
     "text": [
      "['a', 'b', 'c', 'ç', 'd']\n"
     ]
    }
   ],
   "source": [
    "# insert\n",
    "liste = [\"a\",\"b\",\"c\",\"d\"]\n",
    "#         0.  1.  2.  3. \n",
    "# liste.insert(indis numarası,eklenecek eleman)\n",
    "liste.insert(3,\"ç\") # liste.insert(-1,\"ç\")\n",
    "print(liste)"
   ]
  },
  {
   "cell_type": "code",
   "execution_count": 29,
   "metadata": {},
   "outputs": [
    {
     "name": "stdout",
     "output_type": "stream",
     "text": [
      "['a', 'b', 'c', 'd', 'e']\n"
     ]
    }
   ],
   "source": [
    "# append\n",
    "liste = [\"a\",\"b\",\"c\",\"d\"]\n",
    "liste.append(\"e\") # append sona ekleme yapar\n",
    "print(liste)"
   ]
  },
  {
   "cell_type": "code",
   "execution_count": 30,
   "metadata": {},
   "outputs": [
    {
     "name": "stdout",
     "output_type": "stream",
     "text": [
      "[1, 2, 3, 4, [5, 6, 7, 8]]\n"
     ]
    }
   ],
   "source": [
    "liste1 = [1,2,3,4]\n",
    "liste2 = [5,6,7,8]\n",
    "liste1.append(liste2)\n",
    "print(liste1)"
   ]
  },
  {
   "cell_type": "code",
   "execution_count": 32,
   "metadata": {},
   "outputs": [
    {
     "name": "stdout",
     "output_type": "stream",
     "text": [
      "[1, 2, 3, 4, 5, 6, 7, 8]\n"
     ]
    }
   ],
   "source": [
    "# extend\n",
    "liste1 = [1,2,3,4]\n",
    "liste2 = [5,6,7,8]\n",
    "liste1.extend(liste2)\n",
    "print(liste1)"
   ]
  },
  {
   "attachments": {},
   "cell_type": "markdown",
   "metadata": {},
   "source": [
    "### Silme\n",
    "* pop\n",
    "* remove\n",
    "* del"
   ]
  },
  {
   "cell_type": "code",
   "execution_count": 34,
   "metadata": {},
   "outputs": [
    {
     "name": "stdout",
     "output_type": "stream",
     "text": [
      "d\n",
      "['a', 'b', 'c']\n"
     ]
    }
   ],
   "source": [
    "# pop\n",
    "liste = [\"a\",\"b\",\"c\",\"d\"]\n",
    "print(liste.pop()) # pop listeden eleman çıkarır ve o elemanı geri dönüt olarak verir\n",
    "# pop içerisine indis numarası yazılmazsa en son elemanı çıkarır\n",
    "print(liste)"
   ]
  },
  {
   "cell_type": "code",
   "execution_count": 36,
   "metadata": {},
   "outputs": [
    {
     "name": "stdout",
     "output_type": "stream",
     "text": [
      "C\n",
      "['a', 'b', 'd']\n"
     ]
    }
   ],
   "source": [
    "# pop\n",
    "liste = [\"a\",\"b\",\"c\",\"d\"]\n",
    "#         0.  1.  2.  3. \n",
    "print(liste.pop(2))\n",
    "print(liste)"
   ]
  },
  {
   "cell_type": "code",
   "execution_count": 38,
   "metadata": {},
   "outputs": [
    {
     "name": "stdout",
     "output_type": "stream",
     "text": [
      "[1, 3, 4, 5, 6, 7, 1, 2, 3, 4, 5, 6, 7]\n"
     ]
    }
   ],
   "source": [
    "# remove\n",
    "liste = [1,2,3,4,5,6,7,1,2,3,4,5,6,7]\n",
    "liste.remove(2) # eleman bilgisi parametre olarak girilir. soldan ilk karşılaştığı elemanı siler\n",
    "print(liste)"
   ]
  },
  {
   "cell_type": "code",
   "execution_count": 40,
   "metadata": {},
   "outputs": [
    {
     "name": "stdout",
     "output_type": "stream",
     "text": [
      "['t', 'r', 'i', 'p', 'a', 'n', 'a', 'z', 'o', 'm', 'i', 'g', 'a', 'm', 'b', 'i', 'y', 'e', 't', 's', 'i', 'z']\n",
      "['t', 'r', 'i', 'p', 'n', 'a', 'z', 'o', 'm', 'i', 'g', 'a', 'm', 'b', 'i', 'y', 'e', 't', 's', 'i', 'z']\n"
     ]
    }
   ],
   "source": [
    "var1  = \"tripanazomigambiyetsiz\"\n",
    "liste = list(var1)\n",
    "print(liste)\n",
    "liste.remove(\"a\")\n",
    "print(liste)"
   ]
  },
  {
   "cell_type": "code",
   "execution_count": 47,
   "metadata": {},
   "outputs": [
    {
     "name": "stdout",
     "output_type": "stream",
     "text": [
      "The Zen of Python, by Tim Peters\n",
      "\n",
      "Beautiful is better than ugly.\n",
      "Explicit is better than implicit.\n",
      "Simple is better than complex.\n",
      "Complex is better than complicated.\n",
      "Flat is better than nested.\n",
      "Sparse is better than dense.\n",
      "Readability counts.\n",
      "Special cases aren't special enough to break the rules.\n",
      "Although practicality beats purity.\n",
      "Errors should never pass silently.\n",
      "Unless explicitly silenced.\n",
      "In the face of ambiguity, refuse the temptation to guess.\n",
      "There should be one-- and preferably only one --obvious way to do it.\n",
      "Although that way may not be obvious at first unless you're Dutch.\n",
      "Now is better than never.\n",
      "Although never is often better than *right* now.\n",
      "If the implementation is hard to explain, it's a bad idea.\n",
      "If the implementation is easy to explain, it may be a good idea.\n",
      "Namespaces are one honking great idea -- let's do more of those!\n"
     ]
    }
   ],
   "source": [
    "import this"
   ]
  },
  {
   "cell_type": "code",
   "execution_count": 48,
   "metadata": {},
   "outputs": [
    {
     "name": "stdout",
     "output_type": "stream",
     "text": [
      "[2, 3, 4]\n"
     ]
    }
   ],
   "source": [
    "# del\n",
    "liste = [1,2,3,4]\n",
    "del liste[0]\n",
    "print(liste)"
   ]
  },
  {
   "cell_type": "code",
   "execution_count": 49,
   "metadata": {},
   "outputs": [
    {
     "name": "stdout",
     "output_type": "stream",
     "text": [
      "5\n"
     ]
    }
   ],
   "source": [
    "var1 = 5\n",
    "print(var1)"
   ]
  },
  {
   "cell_type": "code",
   "execution_count": 50,
   "metadata": {},
   "outputs": [
    {
     "ename": "NameError",
     "evalue": "name 'var1' is not defined",
     "output_type": "error",
     "traceback": [
      "\u001b[0;31m---------------------------------------------------------------------------\u001b[0m",
      "\u001b[0;31mNameError\u001b[0m                                 Traceback (most recent call last)",
      "Cell \u001b[0;32mIn[50], line 2\u001b[0m\n\u001b[1;32m      1\u001b[0m \u001b[39mdel\u001b[39;00m var1\n\u001b[0;32m----> 2\u001b[0m \u001b[39mprint\u001b[39m(var1)\n",
      "\u001b[0;31mNameError\u001b[0m: name 'var1' is not defined"
     ]
    }
   ],
   "source": [
    "del var1\n",
    "print(var1)"
   ]
  },
  {
   "attachments": {},
   "cell_type": "markdown",
   "metadata": {},
   "source": [
    "### Güncelleme"
   ]
  },
  {
   "attachments": {},
   "cell_type": "markdown",
   "metadata": {},
   "source": [
    "list veri tipi mutable yani elemanları değiştirilebilir bir veri tipdir."
   ]
  },
  {
   "cell_type": "code",
   "execution_count": 52,
   "metadata": {},
   "outputs": [
    {
     "name": "stdout",
     "output_type": "stream",
     "text": [
      "1 [1, 2, 3, 4]\n",
      "2 [1000, 2, 3, 4]\n"
     ]
    }
   ],
   "source": [
    "liste = [1,2,3,4]\n",
    "print(\"1\",liste)\n",
    "liste[0] = 1000 # listeyi güncelledik\n",
    "print(\"2\",liste)"
   ]
  },
  {
   "attachments": {},
   "cell_type": "markdown",
   "metadata": {},
   "source": [
    "#### Yardımcı Fonksiyonlar\n",
    "##### copy"
   ]
  },
  {
   "cell_type": "code",
   "execution_count": 53,
   "metadata": {},
   "outputs": [
    {
     "name": "stdout",
     "output_type": "stream",
     "text": [
      "2\n"
     ]
    }
   ],
   "source": [
    "a = 2\n",
    "b = a \n",
    "a = 3\n",
    "print(b)"
   ]
  },
  {
   "cell_type": "code",
   "execution_count": 54,
   "metadata": {},
   "outputs": [
    {
     "name": "stdout",
     "output_type": "stream",
     "text": [
      "[1, 2, 3, 4, 5]\n"
     ]
    }
   ],
   "source": [
    "a = [1,2,3,4]\n",
    "b = a\n",
    "a.append(5)\n",
    "print(b)"
   ]
  },
  {
   "cell_type": "code",
   "execution_count": 55,
   "metadata": {},
   "outputs": [
    {
     "name": "stdout",
     "output_type": "stream",
     "text": [
      "[1, 2, 3, 4]\n"
     ]
    }
   ],
   "source": [
    "a = [1,2,3,4]\n",
    "b = a.copy()\n",
    "a.append(5)\n",
    "print(b)"
   ]
  },
  {
   "cell_type": "code",
   "execution_count": 56,
   "metadata": {},
   "outputs": [
    {
     "name": "stdout",
     "output_type": "stream",
     "text": [
      "a 93918971013088\n",
      "b 93918971013088\n"
     ]
    }
   ],
   "source": [
    "a = 2 \n",
    "b = 2\n",
    "print(\"a\",id(a))\n",
    "print(\"b\",id(b))"
   ]
  },
  {
   "cell_type": "code",
   "execution_count": 57,
   "metadata": {},
   "outputs": [
    {
     "name": "stdout",
     "output_type": "stream",
     "text": [
      "a 139629358209584\n",
      "b 139629357948656\n"
     ]
    }
   ],
   "source": [
    "a = 258\n",
    "b = 258\n",
    "print(\"a\",id(a))\n",
    "print(\"b\",id(b))"
   ]
  },
  {
   "cell_type": "code",
   "execution_count": 58,
   "metadata": {},
   "outputs": [
    {
     "name": "stdout",
     "output_type": "stream",
     "text": [
      "a 139629358027184\n",
      "b 139629358027184\n"
     ]
    }
   ],
   "source": [
    "a = b = 258\n",
    "print(\"a\",id(a))\n",
    "print(\"b\",id(b))"
   ]
  },
  {
   "cell_type": "code",
   "execution_count": 59,
   "metadata": {},
   "outputs": [
    {
     "name": "stdout",
     "output_type": "stream",
     "text": [
      "a 139629361777168\n",
      "b 139629358027184\n"
     ]
    }
   ],
   "source": [
    "a = a + 1\n",
    "print(\"a\",id(a))\n",
    "print(\"b\",id(b))"
   ]
  },
  {
   "attachments": {},
   "cell_type": "markdown",
   "metadata": {},
   "source": [
    "##### count"
   ]
  },
  {
   "cell_type": "code",
   "execution_count": 61,
   "metadata": {},
   "outputs": [
    {
     "name": "stdout",
     "output_type": "stream",
     "text": [
      "8\n"
     ]
    }
   ],
   "source": [
    "liste = [1,2,1,1,2,2,3,1,1,1,2,2,2,1,1,12,2]\n",
    "print(liste.count(1))"
   ]
  },
  {
   "cell_type": "code",
   "execution_count": 62,
   "metadata": {},
   "outputs": [
    {
     "name": "stdout",
     "output_type": "stream",
     "text": [
      "1\n"
     ]
    }
   ],
   "source": [
    "liste = [1,2,1,1,2,2,3,1,1,1,2,2,2,1,1,12,2]\n",
    "###.     0 1 2 3 \n",
    "print(liste.index(2))"
   ]
  },
  {
   "cell_type": "code",
   "execution_count": 63,
   "metadata": {},
   "outputs": [
    {
     "name": "stdout",
     "output_type": "stream",
     "text": [
      "[1, 2, 2, 2, 3, 4, 5, 5, 6, 6, 7, 7, 9, 20]\n"
     ]
    }
   ],
   "source": [
    "liste = [1,2,6,7,4,5,6,2,3,5,7,2,9,20]\n",
    "liste.sort() # küçükten büyüğe listeyi sıralar\n",
    "print(liste)"
   ]
  },
  {
   "cell_type": "code",
   "execution_count": 64,
   "metadata": {},
   "outputs": [
    {
     "name": "stdout",
     "output_type": "stream",
     "text": [
      "[20, 9, 7, 7, 6, 6, 5, 5, 4, 3, 2, 2, 2, 1]\n"
     ]
    }
   ],
   "source": [
    "liste = [1,2,6,7,4,5,6,2,3,5,7,2,9,20]\n",
    "liste.sort(reverse=True) # büyükten küçüğe  listeyi sıralar\n",
    "print(liste)"
   ]
  },
  {
   "cell_type": "code",
   "execution_count": 65,
   "metadata": {},
   "outputs": [
    {
     "name": "stdout",
     "output_type": "stream",
     "text": [
      "['ş', 'e', 'r', 'e', 'f', 'l', 'i', 'k', 'o', 'ç', 'h', 'i', 's', 'a', 'r']\n"
     ]
    }
   ],
   "source": [
    "var1 = \"şereflikoçhisar\"\n",
    "liste = list(var1) # tip dönüşümü type convertion\n",
    "print(liste)"
   ]
  },
  {
   "cell_type": "code",
   "execution_count": 66,
   "metadata": {},
   "outputs": [
    {
     "name": "stdout",
     "output_type": "stream",
     "text": [
      "['a', 'e', 'e', 'f', 'h', 'i', 'i', 'k', 'l', 'o', 'r', 'r', 's', 'ç', 'ş']\n"
     ]
    }
   ],
   "source": [
    "liste.sort()\n",
    "print(liste)"
   ]
  },
  {
   "cell_type": "code",
   "execution_count": 75,
   "metadata": {},
   "outputs": [
    {
     "name": "stdout",
     "output_type": "stream",
     "text": [
      "[1, 2, 2, 2, 3, 4, 5, 5, 6, 6, 7, 7, 9, 20]\n",
      "[1, 2, 6, 7, 4, 5, 6, 2, 3, 5, 7, 2, 9, 20]\n"
     ]
    }
   ],
   "source": [
    "liste = [1,2,6,7,4,5,6,2,3,5,7,2,9,20]\n",
    "print(sorted(liste)) # bir defalığına listeyi sıralar listeyi değiştirmez\n",
    "print(liste)"
   ]
  },
  {
   "cell_type": "code",
   "execution_count": 76,
   "metadata": {},
   "outputs": [
    {
     "name": "stdout",
     "output_type": "stream",
     "text": [
      "[1, 2, 2, 2, 3, 4, 5, 5, 6, 6, 7, 7, 9, 20]\n"
     ]
    }
   ],
   "source": [
    "liste = [1,2,6,7,4,5,6,2,3,5,7,2,9,20]\n",
    "liste.sort() # kalıcı olarak sıralar  liste değişir\n",
    "print(liste)"
   ]
  },
  {
   "cell_type": "code",
   "execution_count": 78,
   "metadata": {},
   "outputs": [
    {
     "name": "stdout",
     "output_type": "stream",
     "text": [
      "9\n"
     ]
    }
   ],
   "source": [
    "liste = [[1,2,3,4,5],[6,7,8,9,10]]\n",
    "#             0.          1\n",
    "#         0 1 2 3 4   0 1 2 3 4\n",
    "print(liste[1][3])"
   ]
  },
  {
   "attachments": {},
   "cell_type": "markdown",
   "metadata": {},
   "source": [
    "####### Egzersiz ########\n",
    "```\n",
    "import random\n",
    "random.seed(2)\n",
    "liste = [ random.randint(1,100) for i in range(5)]\n",
    "``` \n",
    "<br>\n",
    "yukarıdaki kod satırı beş elemanlı bir liste üretmektedir. <br>\n",
    "1. listeyi büyükten küçüğe doğru sıralayınız.<br>\n",
    "2. listenin 2. sıradaki elemanını ekrana yazdırıp listeden çıkarınız<br>\n",
    "3. listenin 1. elemanını 1000 sayısı ile değiştiriniz.<br>\n",
    "4. listenin 2. sırasına 250 sayısını ekleyiniz.<br>"
   ]
  },
  {
   "cell_type": "code",
   "execution_count": 80,
   "metadata": {},
   "outputs": [
    {
     "name": "stdout",
     "output_type": "stream",
     "text": [
      "[8, 12, 11, 47, 22]\n"
     ]
    }
   ],
   "source": [
    "import random\n",
    "random.seed(2)\n",
    "liste = [ random.randint(1,100) for i in range(5)]\n",
    "print(liste)"
   ]
  },
  {
   "cell_type": "code",
   "execution_count": 81,
   "metadata": {},
   "outputs": [
    {
     "name": "stdout",
     "output_type": "stream",
     "text": [
      "[47, 22, 12, 11, 8]\n"
     ]
    }
   ],
   "source": [
    "# 1.\n",
    "liste.sort(reverse=True)\n",
    "print(liste)"
   ]
  },
  {
   "cell_type": "code",
   "execution_count": 82,
   "metadata": {},
   "outputs": [
    {
     "name": "stdout",
     "output_type": "stream",
     "text": [
      "22\n",
      "[47, 12, 11, 8]\n"
     ]
    }
   ],
   "source": [
    "# 2. \n",
    "print(liste.pop(1))\n",
    "print(liste)"
   ]
  },
  {
   "cell_type": "code",
   "execution_count": 83,
   "metadata": {},
   "outputs": [
    {
     "name": "stdout",
     "output_type": "stream",
     "text": [
      "[1000, 12, 11, 8]\n"
     ]
    }
   ],
   "source": [
    "# 3.\n",
    "liste[0] = 1000\n",
    "print(liste)"
   ]
  },
  {
   "cell_type": "code",
   "execution_count": 84,
   "metadata": {},
   "outputs": [
    {
     "name": "stdout",
     "output_type": "stream",
     "text": [
      "[1000, 250, 12, 11, 8]\n"
     ]
    }
   ],
   "source": [
    "# 4.\n",
    "liste.insert(1,250)\n",
    "print(liste)"
   ]
  },
  {
   "cell_type": "code",
   "execution_count": 88,
   "metadata": {},
   "outputs": [
    {
     "name": "stdout",
     "output_type": "stream",
     "text": [
      "25\n",
      "100\n",
      "225\n",
      "400\n",
      "625\n"
     ]
    }
   ],
   "source": [
    "liste = [1,2,3,4,5]\n",
    "print(*map(lambda x:x**2*25,liste),sep=\"\\n\")"
   ]
  },
  {
   "cell_type": "code",
   "execution_count": null,
   "metadata": {},
   "outputs": [],
   "source": []
  }
 ],
 "metadata": {
  "kernelspec": {
   "display_name": "Python 3",
   "language": "python",
   "name": "python3"
  },
  "language_info": {
   "codemirror_mode": {
    "name": "ipython",
    "version": 3
   },
   "file_extension": ".py",
   "mimetype": "text/x-python",
   "name": "python",
   "nbconvert_exporter": "python",
   "pygments_lexer": "ipython3",
   "version": "3.8.16 (default, Jan 10 2023, 15:23:34) \n[GCC 9.4.0]"
  },
  "orig_nbformat": 4,
  "vscode": {
   "interpreter": {
    "hash": "9ac03a0a6051494cc606d484d27d20fce22fb7b4d169f583271e11d5ba46a56e"
   }
  }
 },
 "nbformat": 4,
 "nbformat_minor": 2
}
