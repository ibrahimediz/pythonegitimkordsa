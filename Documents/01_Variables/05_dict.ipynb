{
 "cells": [
  {
   "attachments": {},
   "cell_type": "markdown",
   "metadata": {},
   "source": [
    "# Dict Veri Tipi\n",
    "* Tanımlama\n",
    "* Erişim\n",
    "* Ekleme ve Güncelleme\n",
    "* Silme\n",
    "* Yardımcı Fonksiyonlar\n",
    "    - keys\n",
    "    - values\n",
    "    - items"
   ]
  },
  {
   "attachments": {},
   "cell_type": "markdown",
   "metadata": {},
   "source": [
    "### Tanımlama"
   ]
  },
  {
   "cell_type": "code",
   "execution_count": 2,
   "metadata": {},
   "outputs": [
    {
     "name": "stdout",
     "output_type": "stream",
     "text": [
      "<class 'dict'>\n"
     ]
    }
   ],
   "source": [
    "sozluk = {}\n",
    "print(type(sozluk))"
   ]
  },
  {
   "cell_type": "code",
   "execution_count": 3,
   "metadata": {},
   "outputs": [],
   "source": [
    "liste = [1,2,3,4]\n",
    "#        0 1 2 3\n"
   ]
  },
  {
   "cell_type": "code",
   "execution_count": 6,
   "metadata": {},
   "outputs": [],
   "source": [
    "sozluk = {\"1\":\"Bir\"} # Mapping Data Type\n",
    "#         key:value\n",
    "#      anahtar:deger\n",
    "# key için\n",
    "#. sayılar\n",
    "#. str\n",
    "#. tuple\n",
    "# Value için\n",
    "# herşey kullanılabilir"
   ]
  },
  {
   "cell_type": "code",
   "execution_count": 7,
   "metadata": {},
   "outputs": [],
   "source": [
    "sozluk = {\n",
    "    \"1\":\"Bir\",\n",
    "    \"2\":\"İki\",\n",
    "    \"3\":\"Üç\"\n",
    "    }"
   ]
  },
  {
   "attachments": {},
   "cell_type": "markdown",
   "metadata": {},
   "source": [
    "### Erişim"
   ]
  },
  {
   "cell_type": "code",
   "execution_count": 8,
   "metadata": {},
   "outputs": [
    {
     "data": {
      "text/plain": [
       "'Bir'"
      ]
     },
     "execution_count": 8,
     "metadata": {},
     "output_type": "execute_result"
    }
   ],
   "source": [
    "sozluk = {\n",
    "    \"1\":\"Bir\",\n",
    "    \"2\":\"İki\",\n",
    "    \"3\":\"Üç\"\n",
    "    }\n",
    "sozluk[\"1\"]"
   ]
  },
  {
   "cell_type": "code",
   "execution_count": 10,
   "metadata": {},
   "outputs": [
    {
     "data": {
      "text/plain": [
       "'Bir'"
      ]
     },
     "execution_count": 10,
     "metadata": {},
     "output_type": "execute_result"
    }
   ],
   "source": [
    "sozluk = {\n",
    "    1:\"Bir\",\n",
    "    2:\"İki\",\n",
    "    3:\"Üç\"\n",
    "    }\n",
    "sozluk[1] # köşeli parantez içerisine anahtar yazılır"
   ]
  },
  {
   "cell_type": "code",
   "execution_count": 11,
   "metadata": {},
   "outputs": [],
   "source": [
    "sozluk = {\n",
    "    1:\n",
    "    {\n",
    "        \"Adi\":\"Ali\",\n",
    "        \"Soyadi\":\"Veli\",\n",
    "        \"Memleket\":\"Çorum\"\n",
    "    },\n",
    "    2:\n",
    "    {\n",
    "        \"Adi\":\"Ayşe\",\n",
    "        \"Soyadi\":\"Fatma\",\n",
    "        \"Memleket\":\"Yozgat\"\n",
    "    },\n",
    "}"
   ]
  },
  {
   "cell_type": "code",
   "execution_count": 12,
   "metadata": {},
   "outputs": [
    {
     "data": {
      "text/plain": [
       "'Ali'"
      ]
     },
     "execution_count": 12,
     "metadata": {},
     "output_type": "execute_result"
    }
   ],
   "source": [
    "sozluk[1][\"Adi\"]"
   ]
  },
  {
   "cell_type": "code",
   "execution_count": 20,
   "metadata": {},
   "outputs": [],
   "source": [
    "import json\n",
    "print(json.dumps(sozluk,indent=4,ensure_ascii=False),file=open(\"deneme.json\",\"w\",encoding=\"UTF-8\"))"
   ]
  },
  {
   "attachments": {},
   "cell_type": "markdown",
   "metadata": {},
   "source": [
    "### Ekleme ve Güncelleme"
   ]
  },
  {
   "cell_type": "code",
   "execution_count": 21,
   "metadata": {},
   "outputs": [
    {
     "name": "stdout",
     "output_type": "stream",
     "text": [
      "{'1': 'Bir', '2': 'İki'}\n"
     ]
    }
   ],
   "source": [
    "sozluk = {\"1\":\"Bir\"}\n",
    "sozluk[\"2\"] = \"İki\"\n",
    "print(sozluk)"
   ]
  },
  {
   "cell_type": "code",
   "execution_count": 22,
   "metadata": {},
   "outputs": [
    {
     "name": "stdout",
     "output_type": "stream",
     "text": [
      "{'1': 'One'}\n"
     ]
    }
   ],
   "source": [
    "sozluk = {\"1\":\"Bir\"}\n",
    "sozluk[\"1\"] = \"One\"\n",
    "print(sozluk)"
   ]
  },
  {
   "cell_type": "code",
   "execution_count": 25,
   "metadata": {},
   "outputs": [
    {
     "name": "stdout",
     "output_type": "stream",
     "text": [
      "Bir\n"
     ]
    }
   ],
   "source": [
    "# setdefault\n",
    "sozluk = {\"1\":\"Bir\"}\n",
    "print(sozluk.setdefault(\"1\",\"One\"))\n",
    "print(sozluk)"
   ]
  },
  {
   "cell_type": "code",
   "execution_count": 24,
   "metadata": {},
   "outputs": [
    {
     "name": "stdout",
     "output_type": "stream",
     "text": [
      "Two\n",
      "{'1': 'Bir', '2': 'Two'}\n"
     ]
    }
   ],
   "source": [
    "sozluk = {\"1\":\"Bir\"}\n",
    "print(sozluk.setdefault(\"2\",\"Two\"))\n",
    "print(sozluk)"
   ]
  },
  {
   "cell_type": "code",
   "execution_count": 26,
   "metadata": {},
   "outputs": [
    {
     "ename": "KeyError",
     "evalue": "'3'",
     "output_type": "error",
     "traceback": [
      "\u001b[0;31m---------------------------------------------------------------------------\u001b[0m",
      "\u001b[0;31mKeyError\u001b[0m                                  Traceback (most recent call last)",
      "Cell \u001b[0;32mIn[26], line 2\u001b[0m\n\u001b[1;32m      1\u001b[0m sozluk \u001b[39m=\u001b[39m {\u001b[39m\"\u001b[39m\u001b[39m1\u001b[39m\u001b[39m\"\u001b[39m:\u001b[39m\"\u001b[39m\u001b[39mBir\u001b[39m\u001b[39m\"\u001b[39m,\u001b[39m\"\u001b[39m\u001b[39m2\u001b[39m\u001b[39m\"\u001b[39m:\u001b[39m\"\u001b[39m\u001b[39mİki\u001b[39m\u001b[39m\"\u001b[39m}\n\u001b[0;32m----> 2\u001b[0m sozluk[\u001b[39m\"\u001b[39;49m\u001b[39m3\u001b[39;49m\u001b[39m\"\u001b[39;49m]\n",
      "\u001b[0;31mKeyError\u001b[0m: '3'"
     ]
    }
   ],
   "source": [
    "sozluk = {\"1\":\"Bir\",\"2\":\"İki\"}\n",
    "sozluk[\"3\"]"
   ]
  },
  {
   "cell_type": "code",
   "execution_count": 29,
   "metadata": {},
   "outputs": [
    {
     "name": "stdout",
     "output_type": "stream",
     "text": [
      "None\n"
     ]
    }
   ],
   "source": [
    "# get \n",
    "sozluk = {\"1\":\"Bir\",\"2\":\"İki\"}\n",
    "print(sozluk.get(\"3\"))"
   ]
  },
  {
   "cell_type": "code",
   "execution_count": 30,
   "metadata": {},
   "outputs": [
    {
     "name": "stdout",
     "output_type": "stream",
     "text": [
      "{'1': 'One', '2': 'Two', '4': 'Dört', '3': 'Three'}\n"
     ]
    }
   ],
   "source": [
    "# update\n",
    "sozluk1 = {\"1\":\"Bir\",\"2\":\"İki\",\"4\":\"Dört\"}\n",
    "sozluk2 = {\"1\":\"One\",\"2\":\"Two\",\"3\":\"Three\"}\n",
    "sozluk1.update(sozluk2)\n",
    "print(sozluk1)"
   ]
  },
  {
   "cell_type": "code",
   "execution_count": 31,
   "metadata": {},
   "outputs": [
    {
     "name": "stdout",
     "output_type": "stream",
     "text": [
      "{'Adi': '', 'Soyadi': '', 'Tel': '', 'Adres': ''}\n"
     ]
    }
   ],
   "source": [
    "liste = [\"Adi\",\"Soyadi\",\"Tel\",\"Adres\"]\n",
    "sozluk = dict.fromkeys(liste,\"\")\n",
    "print(sozluk)"
   ]
  },
  {
   "cell_type": "code",
   "execution_count": 34,
   "metadata": {},
   "outputs": [
    {
     "data": {
      "text/plain": [
       "{'Adi': 'Ali', 'Soyadi': 'Veli', 'Tel': '55523456', 'Adres': 'ANKARA'}"
      ]
     },
     "execution_count": 34,
     "metadata": {},
     "output_type": "execute_result"
    }
   ],
   "source": [
    "listeDBField = [\"Adi\",\"Soyadi\",\"Tel\",\"Adres\"]\n",
    "listeValues = [\"Ali\",\"Veli\",\"55523456\",\"ANKARA\"]\n",
    "dict(zip(listeDBField,listeValues))"
   ]
  },
  {
   "attachments": {},
   "cell_type": "markdown",
   "metadata": {},
   "source": [
    "### Silme"
   ]
  },
  {
   "cell_type": "code",
   "execution_count": null,
   "metadata": {},
   "outputs": [],
   "source": [
    "sozluk = {'Adi': 'Ali', 'Soyadi': 'Veli', 'Tel': '55523456', 'Adres': 'ANKARA'}\n",
    "#          key : value\n",
    "#             item\n"
   ]
  },
  {
   "cell_type": "code",
   "execution_count": 35,
   "metadata": {},
   "outputs": [
    {
     "name": "stdout",
     "output_type": "stream",
     "text": [
      "('Adres', 'ANKARA')\n",
      "{'Adi': 'Ali', 'Soyadi': 'Veli', 'Tel': '55523456'}\n"
     ]
    }
   ],
   "source": [
    "sozluk = {'Adi': 'Ali', 'Soyadi': 'Veli', 'Tel': '55523456', 'Adres': 'ANKARA'}\n",
    "print(sozluk.popitem()) # en son item silinir\n",
    "print(sozluk)"
   ]
  },
  {
   "cell_type": "code",
   "execution_count": 38,
   "metadata": {},
   "outputs": [
    {
     "name": "stdout",
     "output_type": "stream",
     "text": [
      "('MiddleName', 'Faruk')\n",
      "{'Adi': 'Ali', 'Soyadi': 'Veli', 'Tel': '55523456', 'Adres': 'ANKARA'}\n"
     ]
    }
   ],
   "source": [
    "sozluk = {'Adi': 'Ali', 'Soyadi': 'Veli', 'Tel': '55523456', 'Adres': 'ANKARA'}\n",
    "sozluk[\"MiddleName\"] = \"Faruk\"\n",
    "print(sozluk.popitem()) # en son eklenen item silinir\n",
    "print(sozluk)"
   ]
  },
  {
   "cell_type": "code",
   "execution_count": 40,
   "metadata": {},
   "outputs": [
    {
     "name": "stdout",
     "output_type": "stream",
     "text": [
      "Ali\n",
      "{'Soyadi': 'Veli', 'Tel': '55523456', 'Adres': 'ANKARA'}\n"
     ]
    }
   ],
   "source": [
    "sozluk = {'Adi': 'Ali', 'Soyadi': 'Veli', 'Tel': '55523456', 'Adres': 'ANKARA'}\n",
    "print(sozluk.pop(\"Adi\")) # anahtar girilir item silinir\n",
    "print(sozluk)"
   ]
  },
  {
   "cell_type": "code",
   "execution_count": 44,
   "metadata": {},
   "outputs": [],
   "source": [
    "sozluk1 = {'Adi': 'Ali', 'Soyadi': 'Veli'}\n",
    "sozluk2 = {'Tel': '55523456', 'Adres': 'ANKARA'}\n",
    "# sozluk1 | sozluk2 # daha yüksek versiyonlarda çalışıyor"
   ]
  },
  {
   "attachments": {},
   "cell_type": "markdown",
   "metadata": {},
   "source": [
    "### Yardımcı Fonksiyonlar\n",
    "* keys\n",
    "* values\n",
    "* items"
   ]
  },
  {
   "cell_type": "code",
   "execution_count": 48,
   "metadata": {},
   "outputs": [
    {
     "data": {
      "text/plain": [
       "dict_keys([1, 2, 3])"
      ]
     },
     "execution_count": 48,
     "metadata": {},
     "output_type": "execute_result"
    }
   ],
   "source": [
    "sozluk = {1:\"Bir\",2:\"İki\",3:[\"Three\",\"Üç\"]}\n",
    "sozluk.keys()"
   ]
  },
  {
   "cell_type": "code",
   "execution_count": 49,
   "metadata": {},
   "outputs": [
    {
     "data": {
      "text/plain": [
       "dict_values(['Bir', 'İki', ['Three', 'Üç']])"
      ]
     },
     "execution_count": 49,
     "metadata": {},
     "output_type": "execute_result"
    }
   ],
   "source": [
    "sozluk = {1:\"Bir\",2:\"İki\",3:[\"Three\",\"Üç\"]}\n",
    "sozluk.values()"
   ]
  },
  {
   "cell_type": "code",
   "execution_count": 50,
   "metadata": {},
   "outputs": [
    {
     "data": {
      "text/plain": [
       "dict_items([(1, 'Bir'), (2, 'İki'), (3, ['Three', 'Üç'])])"
      ]
     },
     "execution_count": 50,
     "metadata": {},
     "output_type": "execute_result"
    }
   ],
   "source": [
    "sozluk.items()"
   ]
  },
  {
   "cell_type": "code",
   "execution_count": 51,
   "metadata": {},
   "outputs": [
    {
     "name": "stdout",
     "output_type": "stream",
     "text": [
      "1\n",
      "Bir\n",
      "2\n",
      "İki\n",
      "3\n",
      "['Three', 'Üç']\n"
     ]
    }
   ],
   "source": [
    "for key,value in sozluk.items():\n",
    "    print(key)\n",
    "    print(value)"
   ]
  },
  {
   "attachments": {},
   "cell_type": "markdown",
   "metadata": {},
   "source": [
    "#### Egzersiz ####\n",
    "1. Birden beşe kadar sayıların okunuşlarını bir sözlük haline getiriniz\n",
    "2. Beşten sekize kadar sayıların okunuşlarını bir sözlük haline getiriniz\n",
    "3. dokuz sayısını ve okunuşunu 2. sözlük içerisine ekleyiniz\n",
    "4. iki sözlüğü birleştiriniz. "
   ]
  },
  {
   "cell_type": "code",
   "execution_count": 1,
   "metadata": {},
   "outputs": [
    {
     "name": "stdout",
     "output_type": "stream",
     "text": [
      "{1: 'Bir', 2: 'İki', 3: 'Üç', 4: 'Dört', 5: 'Beş', 6: 'Altı', 7: 'Yedi', 8: 'Sekiz', 9: 'Dokuz'}\n"
     ]
    }
   ],
   "source": [
    "sozluk1 = {1:\"Bir\",2:\"İki\",3:\"Üç\",4:\"Dört\"} # 1\n",
    "sozluk2 = {5:\"Beş\",6:\"Altı\",7:\"Yedi\",8:\"Sekiz\"} # 2\n",
    "sozluk2[9] = \"Dokuz\" # 3\n",
    "sozluk1.update(sozluk2) # 4 \n",
    "print(sozluk1)"
   ]
  },
  {
   "cell_type": "code",
   "execution_count": null,
   "metadata": {},
   "outputs": [],
   "source": []
  }
 ],
 "metadata": {
  "kernelspec": {
   "display_name": "Python 3",
   "language": "python",
   "name": "python3"
  },
  "language_info": {
   "codemirror_mode": {
    "name": "ipython",
    "version": 3
   },
   "file_extension": ".py",
   "mimetype": "text/x-python",
   "name": "python",
   "nbconvert_exporter": "python",
   "pygments_lexer": "ipython3",
   "version": "3.8.16"
  },
  "orig_nbformat": 4,
  "vscode": {
   "interpreter": {
    "hash": "9ac03a0a6051494cc606d484d27d20fce22fb7b4d169f583271e11d5ba46a56e"
   }
  }
 },
 "nbformat": 4,
 "nbformat_minor": 2
}
