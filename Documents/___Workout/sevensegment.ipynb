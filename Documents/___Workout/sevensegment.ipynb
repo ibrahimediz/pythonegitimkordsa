{
 "cells": [
  {
   "cell_type": "code",
   "execution_count": 1,
   "metadata": {},
   "outputs": [
    {
     "data": {
      "text/plain": [
       "' \\ngirilen bir sayının 7 segmentli bir devre elemanında nasıl görüneceğini ekrana yazdıran python kodunu yazalım\\n\\n ####\\n#    #\\n#    #\\n#    #\\n#    #\\n#    #\\n ####\\n'"
      ]
     },
     "execution_count": 1,
     "metadata": {},
     "output_type": "execute_result"
    }
   ],
   "source": [
    "\"\"\" \n",
    "girilen bir sayının 7 segmentli bir devre elemanında nasıl görüneceğini ekrana yazdıran python kodunu yazalım\n",
    "\n",
    " ####\n",
    "#    #\n",
    "#    #\n",
    "#    #\n",
    "#    #\n",
    "#    #\n",
    " ####\n",
    "\"\"\" "
   ]
  },
  {
   "cell_type": "code",
   "execution_count": 2,
   "metadata": {},
   "outputs": [],
   "source": [
    "# 0xC0 # hexadecimal\n",
    "# 0o76 # octal\n",
    "# 0b1010101 # binary\n",
    "# print(bin(72))\n",
    "# print(hex(72))\n",
    "# print(oct(72))\n",
    "# 0b1001000\n",
    "# 0x48\n",
    "# 0o110\n",
    "# print(int(0xC0))\n",
    "# print(bin(192))\n",
    "# print(bin(0X7E))\n",
    "# const int ZERO = 0X7E;\n",
    "# const int ONE = 0X30;\n",
    "# const int TWO = 0X6D;\n",
    "# const int  THREE = 0X79;\n",
    "# const int  FOUR = 0X33;\n",
    "# const int  FIVE = 0X5B;\n",
    "# const int  SIX = 0X5F;\n",
    "# const int  SEVEN = 0X70;\n",
    "# const int   EIGHT = 0X7F;\n",
    "# const int  NINE = 0X7B;"
   ]
  },
  {
   "cell_type": "code",
   "execution_count": 19,
   "metadata": {},
   "outputs": [
    {
     "data": {
      "text/plain": [
       "'0b1111111'"
      ]
     },
     "execution_count": 19,
     "metadata": {},
     "output_type": "execute_result"
    }
   ],
   "source": [
    "bin(0X7F)"
   ]
  },
  {
   "cell_type": "code",
   "execution_count": 20,
   "metadata": {},
   "outputs": [
    {
     "data": {
      "text/plain": [
       "'0b1111111'"
      ]
     },
     "execution_count": 20,
     "metadata": {},
     "output_type": "execute_result"
    }
   ],
   "source": [
    "str(bin(0X7F))"
   ]
  },
  {
   "cell_type": "code",
   "execution_count": 36,
   "metadata": {},
   "outputs": [
    {
     "data": {
      "text/plain": [
       "'1111011'"
      ]
     },
     "execution_count": 36,
     "metadata": {},
     "output_type": "execute_result"
    }
   ],
   "source": [
    "str(bin(0X7B))[2:].zfill(7)"
   ]
  },
  {
   "cell_type": "code",
   "execution_count": 35,
   "metadata": {},
   "outputs": [
    {
     "data": {
      "text/plain": [
       "('1', '1', '1', '1', '0', '1', '1')"
      ]
     },
     "execution_count": 35,
     "metadata": {},
     "output_type": "execute_result"
    }
   ],
   "source": [
    "a,b,c,d,e,f,g = str(bin(0X7B))[2:].zfill(7)\n",
    "a,b,c,d,e,f,g"
   ]
  },
  {
   "cell_type": "code",
   "execution_count": 34,
   "metadata": {},
   "outputs": [
    {
     "name": "stdout",
     "output_type": "stream",
     "text": [
      " ####\n",
      "#    #\n",
      "#    #\n",
      " ####\n",
      "     #\n",
      "     #\n",
      " ####\n"
     ]
    }
   ],
   "source": [
    "print(\"\",\"#\"*4 if a == \"1\" else \" \"*4)\n",
    "print(\"#\" if f == \"1\" else \" \",\" \"*2,\"#\" if b == \"1\" else \" \")\n",
    "print(\"#\" if f == \"1\" else \" \",\" \"*2,\"#\" if b == \"1\" else \" \")\n",
    "print(\"\",\"#\"*4 if g == \"1\" else \" \"*4)\n",
    "print(\"#\" if e == \"1\" else \" \",\" \"*2,\"#\" if c == \"1\" else \" \")\n",
    "print(\"#\" if e == \"1\" else \" \",\" \"*2,\"#\" if c == \"1\" else \" \")\n",
    "print(\"\",\"#\"*4 if d == \"1\" else \" \"*4)"
   ]
  },
  {
   "cell_type": "code",
   "execution_count": 44,
   "metadata": {},
   "outputs": [],
   "source": [
    "sozluk = {\n",
    "    0:0X7E,1:0X30,2:0X6D,3:0X79,4:0X33,5:0X5B,6:0X5F,7:0X70,8:0X7F,9:0X7B\n",
    "}\n",
    "\n",
    "def _7segment(kar,sayi):\n",
    "    a,b,c,d,e,f,g = str(bin(sozluk[sayi]))[2:].zfill(7)\n",
    "    print(\"\",kar*4 if a == \"1\" else \" \"*4)\n",
    "    print(kar if f == \"1\" else \" \",\" \"*2,kar if b == \"1\" else \" \")\n",
    "    print(kar if f == \"1\" else \" \",\" \"*2,kar if b == \"1\" else \" \")\n",
    "    print(\"\",kar*4 if g == \"1\" else \" \"*4)\n",
    "    print(kar if e == \"1\" else \" \",\" \"*2,kar if c == \"1\" else \" \")\n",
    "    print(kar if e == \"1\" else \" \",\" \"*2,kar if c == \"1\" else \" \")\n",
    "    print(\"\",kar*4 if d == \"1\" else \" \"*4)"
   ]
  },
  {
   "cell_type": "code",
   "execution_count": 47,
   "metadata": {},
   "outputs": [
    {
     "name": "stdout",
     "output_type": "stream",
     "text": [
      " ****\n",
      "*    *\n",
      "*    *\n",
      " ****\n",
      "     *\n",
      "     *\n",
      " ****\n"
     ]
    }
   ],
   "source": [
    "_7segment(\"*\",9)"
   ]
  },
  {
   "cell_type": "code",
   "execution_count": null,
   "metadata": {},
   "outputs": [],
   "source": []
  }
 ],
 "metadata": {
  "kernelspec": {
   "display_name": "Python 3",
   "language": "python",
   "name": "python3"
  },
  "language_info": {
   "codemirror_mode": {
    "name": "ipython",
    "version": 3
   },
   "file_extension": ".py",
   "mimetype": "text/x-python",
   "name": "python",
   "nbconvert_exporter": "python",
   "pygments_lexer": "ipython3",
   "version": "3.8.16"
  },
  "orig_nbformat": 4
 },
 "nbformat": 4,
 "nbformat_minor": 2
}
