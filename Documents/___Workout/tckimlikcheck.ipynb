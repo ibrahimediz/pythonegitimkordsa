{
 "cells": [
  {
   "attachments": {},
   "cell_type": "markdown",
   "metadata": {},
   "source": [
    "```\n",
    "Kurallar:\n",
    "* 11 hanelidir.\n",
    "* Her hanesi rakamsal değer içerir.\n",
    "* İlk hane 0 olamaz.\n",
    "* 1. 3. 5. 7. ve 9. hanelerin toplamının 7 katından, 2. 4. 6. ve 8. hanelerin toplamı çıkartıldığında, elde edilen sonucun 10'a bölümünden kalan, yani Mod10'u bize 10. haneyi verir.\n",
    "* 1. 2. 3. 4. 5. 6. 7. 8. 9. ve 10. hanelerin toplamından elde edilen sonucun 10'a bölümünden kalan, yani Mod10'u bize 11. haneyi verir.\n",
    "Kurallar http://www.kodaman.org/yazi/t-c-kimlik-no-algoritmasi adresinden alınmıştır.\n",
    "```\n",
    "Girilen bir T.C. Kimlik Numarasının Doğruluğunu tespit edip doğru(True) ya da yanlış(False) şeklinde bilgi dönen python fonksiyonunu yazınız"
   ]
  },
  {
   "cell_type": "code",
   "execution_count": 2,
   "metadata": {},
   "outputs": [
    {
     "name": "stdout",
     "output_type": "stream",
     "text": [
      "Doğru\n"
     ]
    }
   ],
   "source": [
    "# kimlikno = \"10000000146\"\n",
    "kimlikno = input(\"T.C. Kimlik Numaranızı Giriniz:\")\n",
    "if len(kimlikno) == 11 and kimlikno[0] != \"0\" and kimlikno.isdigit():\n",
    "    if (sum([int(kimlikno[i]) for i in range(0,9,2)])*7 - sum([int(kimlikno[i]) for i in range(1,8,2)]))%10 == int(kimlikno[9]):\n",
    "        if sum([int(kimlikno[i]) for i in range(0,10)]) %10 == int(kimlikno[10]):\n",
    "            print(\"Doğru\")\n",
    "        else:\n",
    "            print(\"Kural 5 Hatası\")\n",
    "    else:\n",
    "        print(\"Kural 4 Hatası\")\n",
    "else:\n",
    "    print(\"Kural 1,2,3  hatası\")  "
   ]
  },
  {
   "cell_type": "code",
   "execution_count": 6,
   "metadata": {},
   "outputs": [
    {
     "data": {
      "text/plain": [
       "False"
      ]
     },
     "execution_count": 6,
     "metadata": {},
     "output_type": "execute_result"
    }
   ],
   "source": [
    "kimlikno = input(\"T.C. Kimlik Numaranızı Giriniz:\")\n",
    "def tckimlikkontrolFonk(kimlikno):\n",
    "    if len(kimlikno) == 11 and kimlikno[0] != \"0\" and kimlikno.isdigit():\n",
    "        if (sum([int(kimlikno[i]) for i in range(0,9,2)])*7 - sum([int(kimlikno[i]) for i in range(1,8,2)]))%10 == int(kimlikno[9]):\n",
    "            if sum([int(kimlikno[i]) for i in range(0,10)]) %10 == int(kimlikno[10]):\n",
    "                return True\n",
    "    return False \n",
    "tckimlikkontrolFonk(kimlikno)"
   ]
  }
 ],
 "metadata": {
  "kernelspec": {
   "display_name": "Python 3",
   "language": "python",
   "name": "python3"
  },
  "language_info": {
   "codemirror_mode": {
    "name": "ipython",
    "version": 3
   },
   "file_extension": ".py",
   "mimetype": "text/x-python",
   "name": "python",
   "nbconvert_exporter": "python",
   "pygments_lexer": "ipython3",
   "version": "3.8.16"
  },
  "orig_nbformat": 4
 },
 "nbformat": 4,
 "nbformat_minor": 2
}
