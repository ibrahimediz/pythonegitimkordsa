{
 "cells": [
  {
   "attachments": {},
   "cell_type": "markdown",
   "metadata": {},
   "source": [
    "1. En az bir noktalama işareti olmalı\n",
    "2. En az bir Büyük harf olmalı\n",
    "3. En az bir küçük harf olmalı\n",
    "4. En az bir rakam olmalı\n",
    "5. En az 8 karakter uzunluğunda olmalı\n",
    "Yukarıdaki kurallara uygun şifre üreten bir python programı yazınız<br>\n",
    "örneği yaparken aşağıdaki değişken ve fonksiyonlardan faydalanabilirsiniz\n",
    "```\n",
    "from random import choice\n",
    "from string import ascii_uppercase,ascii_lowercase,punctuation,digits\n",
    "```"
   ]
  },
  {
   "cell_type": "code",
   "execution_count": 9,
   "metadata": {},
   "outputs": [
    {
     "data": {
      "text/plain": [
       "'-'"
      ]
     },
     "execution_count": 9,
     "metadata": {},
     "output_type": "execute_result"
    }
   ],
   "source": [
    "from random import choice\n",
    "from string import ascii_uppercase,ascii_lowercase,punctuation,digits\n",
    "ascii_uppercase,ascii_lowercase,punctuation,digits\n",
    "choice(punctuation)"
   ]
  },
  {
   "cell_type": "code",
   "execution_count": 20,
   "metadata": {},
   "outputs": [
    {
     "name": "stdout",
     "output_type": "stream",
     "text": [
      "*Y}Gq&gz\n"
     ]
    }
   ],
   "source": [
    "from random import choice\n",
    "from string import ascii_uppercase,ascii_lowercase,punctuation,digits\n",
    "liste = [ascii_uppercase,ascii_lowercase,punctuation,digits]\n",
    "sifre = \"\"\n",
    "while len(sifre) < 8:\n",
    "    sifre += choice(choice(liste)) # sifre = sifre + choice(choice(liste))\n",
    "else:\n",
    "    print(sifre)"
   ]
  },
  {
   "cell_type": "code",
   "execution_count": 22,
   "metadata": {},
   "outputs": [],
   "source": [
    "def sifreKontrol(sifre):\n",
    "    bHarf = kHarf = rakam = noktalama = False\n",
    "    if sifre == 8:\n",
    "        for item in sifre:\n",
    "            if item.isalpha():\n",
    "                if item.isupper():\n",
    "                    bHarf = True\n",
    "                else:\n",
    "                    kharf = True\n",
    "            elif item.isdigit():\n",
    "                rakam = True\n",
    "            else:\n",
    "                noktalama = True\n",
    "        else:\n",
    "            return bHarf and kHarf and rakam and noktalama\n",
    "    else:\n",
    "        return False "
   ]
  },
  {
   "cell_type": "code",
   "execution_count": 23,
   "metadata": {},
   "outputs": [],
   "source": [
    "def sifreUret(uzunluk):\n",
    "    from random import choice\n",
    "    from string import ascii_uppercase,ascii_lowercase,punctuation,digits\n",
    "    liste = [ascii_uppercase,ascii_lowercase,punctuation,digits]\n",
    "    sifre = \"\"\n",
    "    while len(sifre) <= uzunluk and not sifreKontrol(sifre):\n",
    "        sifre += choice(choice(liste)) # sifre = sifre + choice(choice(liste))\n",
    "    else:\n",
    "        return sifre\n",
    "    "
   ]
  },
  {
   "cell_type": "code",
   "execution_count": 25,
   "metadata": {},
   "outputs": [
    {
     "data": {
      "text/plain": [
       "'P<7W0z$HF+2'"
      ]
     },
     "execution_count": 25,
     "metadata": {},
     "output_type": "execute_result"
    }
   ],
   "source": [
    "sifreUret(10)"
   ]
  },
  {
   "cell_type": "code",
   "execution_count": 7,
   "metadata": {},
   "outputs": [
    {
     "data": {
      "text/plain": [
       "'kR@xdZ1e{(47rB276QNO75BUVPJ^:\\\\'"
      ]
     },
     "execution_count": 7,
     "metadata": {},
     "output_type": "execute_result"
    }
   ],
   "source": [
    "def sifreKontrol(sifre):\n",
    "    bHarf = kHarf = rakam = noktalama = False\n",
    "    for item in sifre:\n",
    "        if item.isalpha():\n",
    "            if item.isupper():\n",
    "                bHarf = True\n",
    "            else:\n",
    "                kHarf = True\n",
    "        elif item.isdigit():\n",
    "            rakam = True\n",
    "        else:\n",
    "            noktalama = True\n",
    "            \n",
    "    else:\n",
    "        return bHarf and kHarf and rakam and noktalama\n",
    "\n",
    "def sifreUret(uzunluk):\n",
    "    from random import choice # rastgele seçim yapacak fonksiyon\n",
    "    from string import ascii_uppercase,ascii_lowercase,punctuation,digits # karakterlerin olduğu kütüphanlerin aktarılması\n",
    "    liste = [ascii_uppercase,ascii_lowercase,punctuation,digits] # karakterlerin büyük listesi \n",
    "    sifre = \"\"\n",
    "    while not sifreKontrol(\n",
    "        sifre):\n",
    "        sifre = \"\"\n",
    "        for i in range(uzunluk):\n",
    "            sifre += choice(choice(liste)) # sifre = sifre + choice(choice(liste)) büyük liste içinde gelen listenin içinden karakter seçmek\n",
    "    else:\n",
    "        return sifre # sorun yoksa şifre dışarı aktarılıyor\n",
    "sifreUret(30)"
   ]
  },
  {
   "cell_type": "code",
   "execution_count": 9,
   "metadata": {},
   "outputs": [
    {
     "name": "stdout",
     "output_type": "stream",
     "text": [
      "CPU times: user 2 µs, sys: 0 ns, total: 2 µs\n",
      "Wall time: 5.01 µs\n"
     ]
    },
    {
     "data": {
      "text/plain": [
       "'FTJN0*4;23:932I6w\\\\y1{17Zldb65['"
      ]
     },
     "execution_count": 9,
     "metadata": {},
     "output_type": "execute_result"
    }
   ],
   "source": [
    "%time\n",
    "sifreUret(30)"
   ]
  },
  {
   "cell_type": "code",
   "execution_count": 10,
   "metadata": {},
   "outputs": [
    {
     "name": "stdout",
     "output_type": "stream",
     "text": [
      "CPU times: user 2 µs, sys: 0 ns, total: 2 µs\n",
      "Wall time: 4.29 µs\n"
     ]
    },
    {
     "data": {
      "text/plain": [
       "'8ZBm2143H@7u0av|x4$0P6)f[5gg*0<y6<FT:nYaWBkMB<:4v`hRE1-6;6@BoH:s8s2(e1\\'gV[Y+bN~_S93v\"F_Bk5\\'995[pet:O'"
      ]
     },
     "execution_count": 10,
     "metadata": {},
     "output_type": "execute_result"
    }
   ],
   "source": [
    "%time\n",
    "sifreUret(100)"
   ]
  },
  {
   "cell_type": "code",
   "execution_count": 11,
   "metadata": {},
   "outputs": [
    {
     "name": "stdout",
     "output_type": "stream",
     "text": [
      "CPU times: user 2 µs, sys: 0 ns, total: 2 µs\n",
      "Wall time: 4.29 µs\n"
     ]
    },
    {
     "data": {
      "text/plain": [
       "'Y6\"1uN11'"
      ]
     },
     "execution_count": 11,
     "metadata": {},
     "output_type": "execute_result"
    }
   ],
   "source": [
    "%time\n",
    "sifreUret(8)"
   ]
  },
  {
   "cell_type": "code",
   "execution_count": null,
   "metadata": {},
   "outputs": [],
   "source": []
  }
 ],
 "metadata": {
  "kernelspec": {
   "display_name": "Python 3",
   "language": "python",
   "name": "python3"
  },
  "language_info": {
   "codemirror_mode": {
    "name": "ipython",
    "version": 3
   },
   "file_extension": ".py",
   "mimetype": "text/x-python",
   "name": "python",
   "nbconvert_exporter": "python",
   "pygments_lexer": "ipython3",
   "version": "3.8.16"
  },
  "orig_nbformat": 4
 },
 "nbformat": 4,
 "nbformat_minor": 2
}
