{
 "cells": [
  {
   "cell_type": "code",
   "execution_count": null,
   "metadata": {},
   "outputs": [],
   "source": [
    "kimlikno = input(\"T.C. Kimlik Numaranızı Giriniz:\")\n",
    "def tckimlikkontrolFonk(kimlikno):\n",
    "    if len(kimlikno) == 11: # uzunluk kontrolü\n",
    "        if kimlikno[0] != \"0\": # ilk rakam sıfır kontrolü\n",
    "            if kimlikno.isdigit(): # hepsi rakam mı kontrolü\n",
    "                liste1 = []\n",
    "                for i in range(0,9,2): # 1,3,5,7,9. sayıların listeye alınması\n",
    "                    liste1.append(int(kimlikno[i]))\n",
    "                liste2 = []\n",
    "                for i in range(1,8,2): # 2,4,6,8 sayıların listeye alınması\n",
    "                    liste2.append(int(kimlikno[i]))\n",
    "                if (sum(liste1)*7-sum(liste2)) % 10 == int(kimlikno[9]):#  kural 4 kontrol\n",
    "                    liste3 = []\n",
    "                    for i in range(0,10): # 1,2,3,4,5,6,7,8,9,10 sayıların listeye alınması\n",
    "                        liste3.append(int(kimlikno[i]))\n",
    "                    if sum(liste3) % 10 == int(kimlikno[10]): # kural 5 kontrol\n",
    "                        return True\n",
    "    return False \n",
    "tckimlikkontrolFonk(kimlikno)"
   ]
  },
  {
   "cell_type": "code",
   "execution_count": 3,
   "metadata": {},
   "outputs": [
    {
     "data": {
      "text/plain": [
       "False"
      ]
     },
     "execution_count": 3,
     "metadata": {},
     "output_type": "execute_result"
    }
   ],
   "source": [
    "kimlikno = input(\"T.C. Kimlik Numaranızı Giriniz:\")\n",
    "def tckimlikkontrolFonk(kimlikno):\n",
    "    if len(kimlikno) == 11 and kimlikno[0] != \"0\" and kimlikno.isdigit():\n",
    "        if (sum([int(kimlikno[i]) for i in range(0,9,2)])*7 - sum([int(kimlikno[i]) for i in range(1,8,2)]))%10 == int(kimlikno[9]):\n",
    "            if sum([int(kimlikno[i]) for i in range(0,10)]) %10 == int(kimlikno[10]):\n",
    "                return True\n",
    "    return False \n",
    "tckimlikkontrolFonk(kimlikno)"
   ]
  }
 ],
 "metadata": {
  "kernelspec": {
   "display_name": "Python 3",
   "language": "python",
   "name": "python3"
  },
  "language_info": {
   "codemirror_mode": {
    "name": "ipython",
    "version": 3
   },
   "file_extension": ".py",
   "mimetype": "text/x-python",
   "name": "python",
   "nbconvert_exporter": "python",
   "pygments_lexer": "ipython3",
   "version": "3.8.16"
  },
  "orig_nbformat": 4
 },
 "nbformat": 4,
 "nbformat_minor": 2
}
