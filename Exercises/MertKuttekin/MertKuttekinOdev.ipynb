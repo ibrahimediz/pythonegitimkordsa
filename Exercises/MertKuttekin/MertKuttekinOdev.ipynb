{
 "cells": [
  {
   "cell_type": "code",
   "execution_count": 1,
   "metadata": {},
   "outputs": [],
   "source": [
    "###1\n",
    "#Exercises_2. Write a Python program to count the number of characters (character frequency) in a string.\n",
    "#Sample String : google.com'\n",
    "#Expected Result : {'g': 2, 'o': 3, 'l': 1, 'e': 1, '.': 1, 'c': 1, 'm': 1}"
   ]
  },
  {
   "cell_type": "code",
   "execution_count": 5,
   "metadata": {},
   "outputs": [
    {
     "data": {
      "text/plain": [
       "Counter({'Ç': 1,\n",
       "         'e': 1,\n",
       "         'k': 3,\n",
       "         'o': 2,\n",
       "         's': 2,\n",
       "         'l': 4,\n",
       "         'v': 1,\n",
       "         'a': 6,\n",
       "         'ı': 8,\n",
       "         'ş': 1,\n",
       "         't': 1,\n",
       "         'r': 2,\n",
       "         'm': 3,\n",
       "         'd': 2,\n",
       "         'z': 2,\n",
       "         'n': 2,\n",
       "         ' ': 1,\n",
       "         '?': 1})"
      ]
     },
     "execution_count": 5,
     "metadata": {},
     "output_type": "execute_result"
    }
   ],
   "source": [
    "var1 = input()\n",
    "import collections as col\n",
    "col.Counter(var1)\n"
   ]
  },
  {
   "cell_type": "code",
   "execution_count": null,
   "metadata": {},
   "outputs": [],
   "source": [
    "###2\n",
    "#4. Write a Python program to get a string from a given string where all occurrences of its first char have been changed to '$', except the first char itself. Go to the editor\n",
    "#Sample String : 'restart'\n",
    "#Expected Result : 'resta$t'"
   ]
  },
  {
   "cell_type": "code",
   "execution_count": 7,
   "metadata": {},
   "outputs": [
    {
     "ename": "NameError",
     "evalue": "name 'str1' is not defined",
     "output_type": "error",
     "traceback": [
      "\u001b[1;31m---------------------------------------------------------------------------\u001b[0m",
      "\u001b[1;31mNameError\u001b[0m                                 Traceback (most recent call last)",
      "Cell \u001b[1;32mIn[7], line 1\u001b[0m\n\u001b[1;32m----> 1\u001b[0m char \u001b[39m=\u001b[39m str1[\u001b[39m0\u001b[39m]\n\u001b[0;32m      2\u001b[0m str1 \u001b[39m=\u001b[39m str1\u001b[39m.\u001b[39mreplace(char, \u001b[39m'\u001b[39m\u001b[39m$\u001b[39m\u001b[39m'\u001b[39m)\n\u001b[0;32m      3\u001b[0m str1 \u001b[39m=\u001b[39m char \u001b[39m+\u001b[39m str1[\u001b[39m1\u001b[39m:]\n",
      "\u001b[1;31mNameError\u001b[0m: name 'str1' is not defined"
     ]
    }
   ],
   "source": [
    "###3\n",
    "\n",
    "def change_char(str1):\n",
    "  char = str1[0]\n",
    "  str1 = str1.replace(char, '$')\n",
    "  str1 = char + str1[1:]\n",
    "\n",
    "  return str1\n",
    "\n",
    "print(change_char('restart'))"
   ]
  },
  {
   "cell_type": "code",
   "execution_count": 13,
   "metadata": {},
   "outputs": [
    {
     "name": "stdout",
     "output_type": "stream",
     "text": [
      "re$tart\n"
     ]
    }
   ],
   "source": [
    "var1 =(\"restart\")\n",
    "str1 =var1.replace(\"s\",\"$\")\n",
    "print(str1)"
   ]
  },
  {
   "cell_type": "code",
   "execution_count": 20,
   "metadata": {},
   "outputs": [
    {
     "name": "stdout",
     "output_type": "stream",
     "text": [
      "FalseTrue\n"
     ]
    }
   ],
   "source": [
    "\n",
    "class count:\n",
    "    def __init__(self,count=0):\n",
    "        self.__count=count\n",
    "\n",
    "x1=count(2)\n",
    "x2=count(2)\n",
    "print(id(x1)==id(x2),end=\"\")\n",
    "y1=\"good\"\n",
    "y2=\"good\"\n",
    "print(id(y1)==id(y2))\n"
   ]
  },
  {
   "cell_type": "code",
   "execution_count": null,
   "metadata": {},
   "outputs": [],
   "source": []
  },
  {
   "cell_type": "code",
   "execution_count": 4,
   "metadata": {},
   "outputs": [
    {
     "name": "stdout",
     "output_type": "stream",
     "text": [
      "['selimlir']\n",
      "SELAMLAR\n"
     ]
    }
   ],
   "source": [
    "###3\n",
    "#13. Write a Python script that takes input from the user and displays that input back in upper and lower cases.\n",
    "\n",
    "var1 = input(\"Lütfen Birşeyler Yazınız:\",)\n",
    "var2 = var1.lower().replace(\"a\",\"i\").split(\",\")\n",
    "var3 = var1.upper()\n",
    "print(var2)\n",
    "print(var3)"
   ]
  },
  {
   "cell_type": "code",
   "execution_count": 3,
   "metadata": {},
   "outputs": [
    {
     "ename": "AttributeError",
     "evalue": "'list' object has no attribute 'strip'",
     "output_type": "error",
     "traceback": [
      "\u001b[0;31m---------------------------------------------------------------------------\u001b[0m",
      "\u001b[0;31mAttributeError\u001b[0m                            Traceback (most recent call last)",
      "Cell \u001b[0;32mIn[3], line 5\u001b[0m\n\u001b[1;32m      3\u001b[0m Yenidünya \u001b[39m=\u001b[39m [\u001b[39m\"\u001b[39m\u001b[39mOkyanusya\u001b[39m\u001b[39m\"\u001b[39m,\u001b[39m\"\u001b[39m\u001b[39mAmerika\u001b[39m\u001b[39m\"\u001b[39m,\u001b[39m\"\u001b[39m\u001b[39mAntartika\u001b[39m\u001b[39m\"\u001b[39m]\n\u001b[1;32m      4\u001b[0m Eskidünya \u001b[39m=\u001b[39m [\u001b[39m\"\u001b[39m\u001b[39mAvrupa\u001b[39m\u001b[39m\"\u001b[39m,\u001b[39m\"\u001b[39m\u001b[39mAsya\u001b[39m\u001b[39m\"\u001b[39m,\u001b[39m\"\u001b[39m\u001b[39mAfrika\u001b[39m\u001b[39m\"\u001b[39m]\n\u001b[0;32m----> 5\u001b[0m var2 \u001b[39m=\u001b[39m var1\u001b[39m.\u001b[39;49mstrip(\u001b[39m\"\u001b[39m\u001b[39m \u001b[39m\u001b[39m\"\u001b[39m)\n\u001b[1;32m      6\u001b[0m var3 \u001b[39m=\u001b[39m var1\u001b[39m.\u001b[39msplit(\u001b[39m\"\u001b[39m\u001b[39m,\u001b[39m\u001b[39m\"\u001b[39m)\n\u001b[1;32m      7\u001b[0m \u001b[39mprint\u001b[39m(var2)\n",
      "\u001b[0;31mAttributeError\u001b[0m: 'list' object has no attribute 'strip'"
     ]
    }
   ],
   "source": [
    "input()\n",
    "Liste = [\"Okyanusya - Avrupa - Afrika - Asya - Amerika - Antartika\"]\n",
    "Yenidünya = [\"Okyanusya\",\"Amerika\",\"Antartika\"]\n",
    "Eskidünya = [\"Avrupa\",\"Asya\",\"Afrika\"]\n",
    "var2 = if input()\n",
    "var3 = var1.split(\",\")\n",
    "print(var2)\n",
    "print(var3)"
   ]
  },
  {
   "cell_type": "code",
   "execution_count": 1,
   "metadata": {},
   "outputs": [
    {
     "name": "stdout",
     "output_type": "stream",
     "text": [
      "Asya\n"
     ]
    }
   ],
   "source": [
    "varliste = [\"Okyanusya\" \"Avrupa\" \"Afrika\" \"Asya\" \"Amerika\" \"Antartika\"]\n",
    "varlisteyeni = [\"Okyanusya\" \"Amerika\" \"Antartika\"]\n",
    "varlisteeski = [\"Avrupa\" \"Afrika\" \"Asya\"]\n",
    "var1 = input()\n",
    "\n",
    "print(var1)\n",
    "\n"
   ]
  },
  {
   "cell_type": "code",
   "execution_count": 16,
   "metadata": {},
   "outputs": [
    {
     "name": "stdout",
     "output_type": "stream",
     "text": [
      "5 * 1 = 5\n",
      "5 * 2 = 10\n",
      "5 * 3 = 15\n",
      "5 * 4 = 20\n",
      "5 * 5 = 25\n",
      "5 * 6 = 30\n",
      "5 * 7 = 35\n",
      "5 * 8 = 40\n",
      "5 * 9 = 45\n",
      "5 * 10 = 50\n"
     ]
    }
   ],
   "source": [
    "###Soru: Girilen Sayını 10'a kadar çarpım listesini oluşturan phyton programını yazınız.###\n",
    "\n",
    "x=int(input())\n",
    "i=1\n",
    "while i<11:\n",
    "    print(x,\"*\",i,\"=\",x*i)\n",
    "    i+=1"
   ]
  },
  {
   "cell_type": "code",
   "execution_count": 15,
   "metadata": {},
   "outputs": [
    {
     "name": "stdout",
     "output_type": "stream",
     "text": [
      "<class 'str'>\n",
      "2023\n",
      "7.8   7.6\n",
      "True\n"
     ]
    }
   ],
   "source": [
    "\n",
    "var1 = \"06.02.2023 tarihinde 7.8 ve 7.6 şiddetinde Türkiye 'iki' büyük deprem ile sallandı\"\n",
    "print(type(var1))\n",
    "var2 = 2023\n",
    "print(var2)\n",
    "var3= \"7.8 , 7.6\"\n",
    "var33 = var3.replace(\",\",\" \")\n",
    "print(var33)\n",
    "var4 = bool('06.02.2023')\n",
    "print(var4)\n"
   ]
  }
 ],
 "metadata": {
  "kernelspec": {
   "display_name": "Python 3",
   "language": "python",
   "name": "python3"
  },
  "language_info": {
   "codemirror_mode": {
    "name": "ipython",
    "version": 3
   },
   "file_extension": ".py",
   "mimetype": "text/x-python",
   "name": "python",
   "nbconvert_exporter": "python",
   "pygments_lexer": "ipython3",
   "version": "3.8.16"
  },
  "orig_nbformat": 4,
  "vscode": {
   "interpreter": {
    "hash": "9ac03a0a6051494cc606d484d27d20fce22fb7b4d169f583271e11d5ba46a56e"
   }
  }
 },
 "nbformat": 4,
 "nbformat_minor": 2
}
