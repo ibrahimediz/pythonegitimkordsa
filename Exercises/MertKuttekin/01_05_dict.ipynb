{
 "cells": [
  {
   "cell_type": "code",
   "execution_count": 9,
   "metadata": {},
   "outputs": [
    {
     "name": "stdout",
     "output_type": "stream",
     "text": [
      "{1: 'Bir', 2: 'İki', 3: 'Üç', 4: 'Dört', 5: 'Beş'}\n"
     ]
    }
   ],
   "source": [
    "## 1. ##\n",
    "sozluk1 = {1:\"Bir\",2:\"İki\",3:\"Üç\",4:\"Dört\",5:\"Beş\"}\n",
    "print(sozluk1)"
   ]
  },
  {
   "cell_type": "code",
   "execution_count": 13,
   "metadata": {},
   "outputs": [
    {
     "data": {
      "text/plain": [
       "dict_values(['Beş', 'Altı', 'Yedi', 'Sekiz'])"
      ]
     },
     "execution_count": 13,
     "metadata": {},
     "output_type": "execute_result"
    }
   ],
   "source": [
    "## 2. ##\n",
    "sozluk1 = {5:\"Beş\",6:\"Altı\",7:\"Yedi\",8:\"Sekiz\"}\n",
    "sozluk1.values()\n"
   ]
  },
  {
   "cell_type": "code",
   "execution_count": 20,
   "metadata": {},
   "outputs": [
    {
     "name": "stdout",
     "output_type": "stream",
     "text": [
      "{5: 'Beş', 6: 'Altı', 7: 'Yedi', 8: 'Sekiz', 9: 'Dokuz'}\n"
     ]
    }
   ],
   "source": [
    "## 3. ##\n",
    "sozluk2 = {5:\"Beş\",6:\"Altı\",7:\"Yedi\",8:\"Sekiz\"}\n",
    "sozluk2.values()\n",
    "sozluk2[9] = \"Dokuz\"\n",
    "print(sozluk2)"
   ]
  },
  {
   "cell_type": "code",
   "execution_count": 23,
   "metadata": {},
   "outputs": [
    {
     "name": "stdout",
     "output_type": "stream",
     "text": [
      "{1: 'Bir', 2: 'İki', 3: 'Üç', 4: 'Dört', 5: 'Beş'}\n",
      "{5: 'Beş', 6: 'Altı', 7: 'Yedi', 8: 'Sekiz'}\n",
      "{5: 'Beş', 6: 'Altı', 7: 'Yedi', 8: 'Sekiz', 9: 'Dokuz'}\n",
      "{1: 'Bir', 2: 'İki', 3: 'Üç', 4: 'Dört', 5: 'Beş', 6: 'Altı', 7: 'Yedi', 8: 'Sekiz', 9: 'Dokuz'}\n"
     ]
    }
   ],
   "source": [
    "### 4 ###\n",
    "\n",
    "sozluk1 = {1:\"Bir\",2:\"İki\",3:\"Üç\",4:\"Dört\",5:\"Beş\"}\n",
    "print(sozluk1)\n",
    "sozluk2 = {5:\"Beş\",6:\"Altı\",7:\"Yedi\",8:\"Sekiz\"}\n",
    "print(sozluk2)\n",
    "sozluk2 = {5:\"Beş\",6:\"Altı\",7:\"Yedi\",8:\"Sekiz\"}\n",
    "sozluk2.values()\n",
    "sozluk2[9] = \"Dokuz\"\n",
    "print(sozluk2)\n",
    "sozluk1.update(sozluk2)\n",
    "print(sozluk1)"
   ]
  }
 ],
 "metadata": {
  "kernelspec": {
   "display_name": "Python 3",
   "language": "python",
   "name": "python3"
  },
  "language_info": {
   "codemirror_mode": {
    "name": "ipython",
    "version": 3
   },
   "file_extension": ".py",
   "mimetype": "text/x-python",
   "name": "python",
   "nbconvert_exporter": "python",
   "pygments_lexer": "ipython3",
   "version": "3.8.16 (default, Jan 10 2023, 15:23:34) \n[GCC 9.4.0]"
  },
  "orig_nbformat": 4,
  "vscode": {
   "interpreter": {
    "hash": "9ac03a0a6051494cc606d484d27d20fce22fb7b4d169f583271e11d5ba46a56e"
   }
  }
 },
 "nbformat": 4,
 "nbformat_minor": 2
}
