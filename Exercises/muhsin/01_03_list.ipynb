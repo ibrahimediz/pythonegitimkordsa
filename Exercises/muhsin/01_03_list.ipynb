{
 "cells": [
  {
   "cell_type": "code",
   "execution_count": 7,
   "metadata": {},
   "outputs": [
    {
     "data": {
      "text/plain": [
       "[200, 250]"
      ]
     },
     "execution_count": 7,
     "metadata": {},
     "output_type": "execute_result"
    }
   ],
   "source": [
    "#### egzersiz ####\n",
    "liste = [200,250,300,350,400]\n",
    "#        200 250 300 350 400\n",
    "liste [:-3]"
   ]
  },
  {
   "cell_type": "code",
   "execution_count": 10,
   "metadata": {},
   "outputs": [
    {
     "name": "stdout",
     "output_type": "stream",
     "text": [
      "[1, 2, 3, 4, 5, 6]\n"
     ]
    }
   ],
   "source": [
    "#concetenate \n",
    "vr1=\"a\"+\"b\"\n",
    "liste1 = [1,2,3]\n",
    "liste2 = [4,5,6]\n",
    "liste3 = liste1 + liste2\n",
    "print (liste3)\n"
   ]
  },
  {
   "cell_type": "code",
   "execution_count": 11,
   "metadata": {},
   "outputs": [
    {
     "name": "stdout",
     "output_type": "stream",
     "text": [
      "['t', 'r', 'i', 'p', 'a', 'n', 'a', 'z', 'o', 'm', 'i', 'g', 'a', 'm', 'b', 'i', 'y', 'e', 't', 's', 'i', 'z']\n",
      "['t', 'r', 'i', 'p', 'n', 'a', 'z', 'o', 'm', 'i', 'g', 'a', 'm', 'b', 'i', 'y', 'e', 't', 's', 'i', 'z']\n"
     ]
    }
   ],
   "source": [
    "var1  = \"tripanazomigambiyetsiz\"\n",
    "liste = list(var1)\n",
    "print(liste)\n",
    "liste.remove(\"a\")\n",
    "print(liste)"
   ]
  },
  {
   "cell_type": "code",
   "execution_count": 12,
   "metadata": {},
   "outputs": [
    {
     "name": "stdout",
     "output_type": "stream",
     "text": [
      "The Zen of Python, by Tim Peters\n",
      "\n",
      "Beautiful is better than ugly.\n",
      "Explicit is better than implicit.\n",
      "Simple is better than complex.\n",
      "Complex is better than complicated.\n",
      "Flat is better than nested.\n",
      "Sparse is better than dense.\n",
      "Readability counts.\n",
      "Special cases aren't special enough to break the rules.\n",
      "Although practicality beats purity.\n",
      "Errors should never pass silently.\n",
      "Unless explicitly silenced.\n",
      "In the face of ambiguity, refuse the temptation to guess.\n",
      "There should be one-- and preferably only one --obvious way to do it.\n",
      "Although that way may not be obvious at first unless you're Dutch.\n",
      "Now is better than never.\n",
      "Although never is often better than *right* now.\n",
      "If the implementation is hard to explain, it's a bad idea.\n",
      "If the implementation is easy to explain, it may be a good idea.\n",
      "Namespaces are one honking great idea -- let's do more of those!\n"
     ]
    }
   ],
   "source": [
    "import this"
   ]
  },
  {
   "cell_type": "code",
   "execution_count": null,
   "metadata": {},
   "outputs": [],
   "source": [
    "####### Egzersiz ########\n",
    "1. <br>\n",
    "```\n",
    "import random\n",
    "random.seed(2)\n",
    "liste = [ random.randint(1,100) for i in range(5)]\n",
    "``` \n",
    "<br>\n",
    "yukarıdaki kod satırı beş elemanlı bir liste üretmektedir. <br>\n",
    "1- listeyi büyükten küçüğe doğru sıralayınız.<br>\n",
    "2- listenin 2. sıradaki elemanını ekrana yazdırıp listeden çıkarınız<br>\n",
    "3- listenin 1. elemanını 1000 sayısı ile değiştiriniz.<br>\n",
    "4- listenin 2. sırasına 250 sayısını ekleyiniz.<br>"
   ]
  },
  {
   "cell_type": "code",
   "execution_count": 1,
   "metadata": {},
   "outputs": [
    {
     "name": "stdout",
     "output_type": "stream",
     "text": [
      "[8, 12, 11, 47, 22]\n",
      "[47, 22, 12, 11, 8]\n",
      "22\n",
      "[47, 12, 11, 8]\n",
      "[1000, 12, 11, 8]\n",
      "[1000, 250, 12, 11, 8]\n"
     ]
    }
   ],
   "source": [
    "import random\n",
    "random.seed(2)\n",
    "liste = [ random.randint(1,100) for i in range(5)]\n",
    "print(liste)\n",
    "liste.sort(reverse=True)\n",
    "print(liste) # 1\n",
    "print(liste.pop(1))\n",
    "print(liste) # 2\n",
    "liste[0] = 1000\n",
    "print(liste) # 3\n",
    "liste.insert(1,250)\n",
    "print(liste) # 4"
   ]
  },
  {
   "cell_type": "code",
   "execution_count": null,
   "metadata": {},
   "outputs": [],
   "source": []
  }
 ],
 "metadata": {
  "kernelspec": {
   "display_name": "Python 3",
   "language": "python",
   "name": "python3"
  },
  "language_info": {
   "codemirror_mode": {
    "name": "ipython",
    "version": 3
   },
   "file_extension": ".py",
   "mimetype": "text/x-python",
   "name": "python",
   "nbconvert_exporter": "python",
   "pygments_lexer": "ipython3",
   "version": "3.8.16"
  },
  "orig_nbformat": 4,
  "vscode": {
   "interpreter": {
    "hash": "9ac03a0a6051494cc606d484d27d20fce22fb7b4d169f583271e11d5ba46a56e"
   }
  }
 },
 "nbformat": 4,
 "nbformat_minor": 2
}
