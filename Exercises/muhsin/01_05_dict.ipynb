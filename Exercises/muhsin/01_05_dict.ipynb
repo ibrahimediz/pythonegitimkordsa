{
 "cells": [
  {
   "cell_type": "code",
   "execution_count": null,
   "metadata": {},
   "outputs": [
    {
     "name": "stdout",
     "output_type": "stream",
     "text": [
      "{1: 'Bir', 2: 'İki', 3: 'Üç', 4: 'dört', 5: 'beş'}\n"
     ]
    }
   ],
   "source": [
    "sozluk1 = {1:\"Bir\",2:\"İki\",3:\"Üç\",4:\"dört\",5:\"beş\"}\n",
    "sozluk2 = {5:\"Beş\",6:\"altı\",7:\"yedi\",8:\"sekiz\",9:\"dokuz\"}\n",
    "sozluk2"
   ]
  },
  {
   "cell_type": "code",
   "execution_count": null,
   "metadata": {},
   "outputs": [],
   "source": []
  }
 ],
 "metadata": {
  "kernelspec": {
   "display_name": "Python 3",
   "language": "python",
   "name": "python3"
  },
  "language_info": {
   "codemirror_mode": {
    "name": "ipython",
    "version": 3
   },
   "file_extension": ".py",
   "mimetype": "text/x-python",
   "name": "python",
   "nbconvert_exporter": "python",
   "pygments_lexer": "ipython3",
   "version": "3.8.16 (default, Jan 10 2023, 15:23:34) \n[GCC 9.4.0]"
  },
  "orig_nbformat": 4,
  "vscode": {
   "interpreter": {
    "hash": "9ac03a0a6051494cc606d484d27d20fce22fb7b4d169f583271e11d5ba46a56e"
   }
  }
 },
 "nbformat": 4,
 "nbformat_minor": 2
}
